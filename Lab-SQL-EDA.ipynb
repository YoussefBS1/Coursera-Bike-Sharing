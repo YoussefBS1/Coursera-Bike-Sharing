{
 "cells": [
  {
   "cell_type": "markdown",
   "metadata": {},
   "source": [
    "<center>\n",
    "<img src=\"https://cf-courses-data.s3.us.cloud-object-storage.appdomain.cloud/IBMDeveloperSkillsNetwork-RP0321EN-SkillsNetwork/labs/module_1/images/SN_web_lightmode.png\" width=\"300\"> \n",
    "</center>\n",
    "\n",
    "# Assignment: Exploratory Data Analysis with SQL\n",
    "Estimated time needed: 60 minutes\n",
    "\n",
    "\n",
    "# Introduction\n",
    "Using this R notebook you will perform exploratory data analysis tasks using SQL queries with the RODBC R package. You will not be graded here, but you will be asked to present some of these results in your final assignment, where you will be graded on the accuracy of your results as well as the content of your SQL queries.\n"
   ]
  },
  {
   "cell_type": "markdown",
   "metadata": {},
   "source": [
    "### Establish your Db2 connection\n",
    "Load the 'RODBC' library, and use the 'odbcConnect( )' function as you did in the previous lab to establish the connection to your Db2 assets.  \n",
    "Provided you successfully loaded your data into the tables in that lab, you are now ready to start running SQL queries using the RODBC library as you did in Course 3.\n"
   ]
  },
  {
   "cell_type": "code",
   "execution_count": 7,
   "metadata": {},
   "outputs": [],
   "source": [
    "library(RODBC)"
   ]
  },
  {
   "cell_type": "code",
   "execution_count": 26,
   "metadata": {},
   "outputs": [
    {
     "data": {
      "text/html": [
       "<strong>DBMS_Name:</strong> 'DB2/LINUXX8664'"
      ],
      "text/latex": [
       "\\textbf{DBMS\\textbackslash{}\\_Name:} 'DB2/LINUXX8664'"
      ],
      "text/markdown": [
       "**DBMS_Name:** 'DB2/LINUXX8664'"
      ],
      "text/plain": [
       "       DBMS_Name \n",
       "\"DB2/LINUXX8664\" "
      ]
     },
     "metadata": {},
     "output_type": "display_data"
    },
    {
     "data": {
      "text/html": [
       "<strong>DBMS_Ver:</strong> '11.05.0800'"
      ],
      "text/latex": [
       "\\textbf{DBMS\\textbackslash{}\\_Ver:} '11.05.0800'"
      ],
      "text/markdown": [
       "**DBMS_Ver:** '11.05.0800'"
      ],
      "text/plain": [
       "    DBMS_Ver \n",
       "\"11.05.0800\" "
      ]
     },
     "metadata": {},
     "output_type": "display_data"
    },
    {
     "data": {
      "text/html": [
       "<strong>Driver_ODBC_Ver:</strong> '03.51'"
      ],
      "text/latex": [
       "\\textbf{Driver\\textbackslash{}\\_ODBC\\textbackslash{}\\_Ver:} '03.51'"
      ],
      "text/markdown": [
       "**Driver_ODBC_Ver:** '03.51'"
      ],
      "text/plain": [
       "Driver_ODBC_Ver \n",
       "        \"03.51\" "
      ]
     },
     "metadata": {},
     "output_type": "display_data"
    }
   ],
   "source": [
    "# provide your solution here\n",
    "# Establish database connection\n",
    "dsn_driver <- \"{IBM DB2 ODBC DRIVER}\"\n",
    "dsn_database <- \"bludb\"\n",
    "dsn_hostname <- \"b1bc1829-6f45-4cd4-bef4-10cf081900bf.c1ogj3sd0tgtu0lqde00.databases.appdomain.cloud\"\n",
    "dsn_port <- \"32304\"\n",
    "dsn_protocol <- \"TCPIP\"     \n",
    "dsn_uid <- \"tmd23140\"   \n",
    "dsn_pwd <- \"PEGQQkAMktledIAK\"   \n",
    "dsn_security <- \"ssl\"\n",
    "conn_path <- paste(\"DRIVER=\",dsn_driver,\n",
    "                  \";DATABASE=\",dsn_database,\n",
    "                  \";HOSTNAME=\",dsn_hostname,\n",
    "                  \";PORT=\",dsn_port,\n",
    "                  \";PROTOCOL=\",dsn_protocol,\n",
    "                  \";UID=\",dsn_uid,\n",
    "                  \";PWD=\",dsn_pwd,\n",
    "                  \";SECURITY=\",dsn_security,        \n",
    "                    sep=\"\")\n",
    "conn <- odbcDriverConnect(conn_path)\n",
    "\n",
    "# Dump connection info\n",
    "#############################################################\n",
    "sql.info <- sqlTypeInfo(conn)\n",
    "conn.info <- odbcGetInfo(conn)\n",
    "conn.info[\"DBMS_Name\"]\n",
    "conn.info[\"DBMS_Ver\"]\n",
    "conn.info[\"Driver_ODBC_Ver\"]"
   ]
  },
  {
   "cell_type": "markdown",
   "metadata": {},
   "source": [
    "\n",
    "## Task 1 - Record Count\n",
    "#### Determine how many records are in the seoul_bike_sharing dataset.\n"
   ]
  },
  {
   "cell_type": "markdown",
   "metadata": {},
   "source": [
    "### Solution 1\n"
   ]
  },
  {
   "cell_type": "code",
   "execution_count": 27,
   "metadata": {},
   "outputs": [
    {
     "data": {
      "text/html": [
       "<table>\n",
       "<caption>A data.frame: 1 × 1</caption>\n",
       "<thead>\n",
       "\t<tr><th></th><th scope=col>RECORD</th></tr>\n",
       "\t<tr><th></th><th scope=col>&lt;int&gt;</th></tr>\n",
       "</thead>\n",
       "<tbody>\n",
       "\t<tr><th scope=row>1</th><td>8465</td></tr>\n",
       "</tbody>\n",
       "</table>\n"
      ],
      "text/latex": [
       "A data.frame: 1 × 1\n",
       "\\begin{tabular}{r|l}\n",
       "  & RECORD\\\\\n",
       "  & <int>\\\\\n",
       "\\hline\n",
       "\t1 & 8465\\\\\n",
       "\\end{tabular}\n"
      ],
      "text/markdown": [
       "\n",
       "A data.frame: 1 × 1\n",
       "\n",
       "| <!--/--> | RECORD &lt;int&gt; |\n",
       "|---|---|\n",
       "| 1 | 8465 |\n",
       "\n"
      ],
      "text/plain": [
       "  RECORD\n",
       "1 8465  "
      ]
     },
     "metadata": {},
     "output_type": "display_data"
    }
   ],
   "source": [
    "# provide your solution here\n",
    "query = \"SELECT COUNT(DATE) as record FROM seoul_bike_sharing ;\"\n",
    "view <- sqlQuery(conn,query)\n",
    "view"
   ]
  },
  {
   "cell_type": "markdown",
   "metadata": {},
   "source": [
    "## Task 2 - Operational Hours\n",
    "#### Determine how many hours had non-zero rented bike count.\n"
   ]
  },
  {
   "cell_type": "markdown",
   "metadata": {},
   "source": [
    "### Solution 2\n"
   ]
  },
  {
   "cell_type": "code",
   "execution_count": 28,
   "metadata": {},
   "outputs": [
    {
     "data": {
      "text/html": [
       "<table>\n",
       "<caption>A data.frame: 1 × 1</caption>\n",
       "<thead>\n",
       "\t<tr><th></th><th scope=col>RECORD</th></tr>\n",
       "\t<tr><th></th><th scope=col>&lt;int&gt;</th></tr>\n",
       "</thead>\n",
       "<tbody>\n",
       "\t<tr><th scope=row>1</th><td>8465</td></tr>\n",
       "</tbody>\n",
       "</table>\n"
      ],
      "text/latex": [
       "A data.frame: 1 × 1\n",
       "\\begin{tabular}{r|l}\n",
       "  & RECORD\\\\\n",
       "  & <int>\\\\\n",
       "\\hline\n",
       "\t1 & 8465\\\\\n",
       "\\end{tabular}\n"
      ],
      "text/markdown": [
       "\n",
       "A data.frame: 1 × 1\n",
       "\n",
       "| <!--/--> | RECORD &lt;int&gt; |\n",
       "|---|---|\n",
       "| 1 | 8465 |\n",
       "\n"
      ],
      "text/plain": [
       "  RECORD\n",
       "1 8465  "
      ]
     },
     "metadata": {},
     "output_type": "display_data"
    }
   ],
   "source": [
    "# provide your solution here\n",
    "query = \"SELECT COUNT(HOUR) as record FROM seoul_bike_sharing where RENTED_BIKE_COUNT <> 0;\"\n",
    "view <- sqlQuery(conn,query)\n",
    "view"
   ]
  },
  {
   "cell_type": "markdown",
   "metadata": {},
   "source": [
    "## Task 3 - Weather Outlook\n",
    "#### Query the the weather forecast for Seoul over the next 3 hours.\n",
    "Recall that the records in the CITIES_WEATHER_FORECAST dataset are 3 hours apart, so we just need the first record from the query.\n"
   ]
  },
  {
   "cell_type": "markdown",
   "metadata": {},
   "source": [
    "### Solution 3\n"
   ]
  },
  {
   "cell_type": "code",
   "execution_count": 29,
   "metadata": {},
   "outputs": [
    {
     "data": {
      "text/html": [
       "<table>\n",
       "<caption>A data.frame: 1 × 12</caption>\n",
       "<thead>\n",
       "\t<tr><th></th><th scope=col>CITY</th><th scope=col>WEATHER</th><th scope=col>VISIBILITY</th><th scope=col>TEMP</th><th scope=col>TEMP_MIN</th><th scope=col>TEMP_MAX</th><th scope=col>PRESSURE</th><th scope=col>HUMIDITY</th><th scope=col>WIND_SPEED</th><th scope=col>WIND_DEG</th><th scope=col>SEASON</th><th scope=col>FORECAST_DATETIME</th></tr>\n",
       "\t<tr><th></th><th scope=col>&lt;fct&gt;</th><th scope=col>&lt;fct&gt;</th><th scope=col>&lt;int&gt;</th><th scope=col>&lt;dbl&gt;</th><th scope=col>&lt;dbl&gt;</th><th scope=col>&lt;dbl&gt;</th><th scope=col>&lt;int&gt;</th><th scope=col>&lt;int&gt;</th><th scope=col>&lt;dbl&gt;</th><th scope=col>&lt;int&gt;</th><th scope=col>&lt;fct&gt;</th><th scope=col>&lt;dttm&gt;</th></tr>\n",
       "</thead>\n",
       "<tbody>\n",
       "\t<tr><th scope=row>1</th><td>Seoul</td><td>Clear</td><td>10000</td><td>12.32</td><td>10.91</td><td>12.32</td><td>1015</td><td>50</td><td>2.18</td><td>248</td><td>Spring</td><td>2021-04-16 12:00:00</td></tr>\n",
       "</tbody>\n",
       "</table>\n"
      ],
      "text/latex": [
       "A data.frame: 1 × 12\n",
       "\\begin{tabular}{r|llllllllllll}\n",
       "  & CITY & WEATHER & VISIBILITY & TEMP & TEMP\\_MIN & TEMP\\_MAX & PRESSURE & HUMIDITY & WIND\\_SPEED & WIND\\_DEG & SEASON & FORECAST\\_DATETIME\\\\\n",
       "  & <fct> & <fct> & <int> & <dbl> & <dbl> & <dbl> & <int> & <int> & <dbl> & <int> & <fct> & <dttm>\\\\\n",
       "\\hline\n",
       "\t1 & Seoul & Clear & 10000 & 12.32 & 10.91 & 12.32 & 1015 & 50 & 2.18 & 248 & Spring & 2021-04-16 12:00:00\\\\\n",
       "\\end{tabular}\n"
      ],
      "text/markdown": [
       "\n",
       "A data.frame: 1 × 12\n",
       "\n",
       "| <!--/--> | CITY &lt;fct&gt; | WEATHER &lt;fct&gt; | VISIBILITY &lt;int&gt; | TEMP &lt;dbl&gt; | TEMP_MIN &lt;dbl&gt; | TEMP_MAX &lt;dbl&gt; | PRESSURE &lt;int&gt; | HUMIDITY &lt;int&gt; | WIND_SPEED &lt;dbl&gt; | WIND_DEG &lt;int&gt; | SEASON &lt;fct&gt; | FORECAST_DATETIME &lt;dttm&gt; |\n",
       "|---|---|---|---|---|---|---|---|---|---|---|---|---|\n",
       "| 1 | Seoul | Clear | 10000 | 12.32 | 10.91 | 12.32 | 1015 | 50 | 2.18 | 248 | Spring | 2021-04-16 12:00:00 |\n",
       "\n"
      ],
      "text/plain": [
       "  CITY  WEATHER VISIBILITY TEMP  TEMP_MIN TEMP_MAX PRESSURE HUMIDITY WIND_SPEED\n",
       "1 Seoul Clear   10000      12.32 10.91    12.32    1015     50       2.18      \n",
       "  WIND_DEG SEASON FORECAST_DATETIME  \n",
       "1 248      Spring 2021-04-16 12:00:00"
      ]
     },
     "metadata": {},
     "output_type": "display_data"
    }
   ],
   "source": [
    "# provide your solution here\n",
    "query = \"SELECT * from cities_weather_forecast\n",
    "Where CITY = 'Seoul'\n",
    "Limit 1;\"\n",
    "view <- sqlQuery(conn,query)\n",
    "view"
   ]
  },
  {
   "cell_type": "markdown",
   "metadata": {},
   "source": [
    "## Task 4 - Seasons\n",
    "#### Find which seasons are included in the seoul bike sharing dataset.\n"
   ]
  },
  {
   "cell_type": "markdown",
   "metadata": {},
   "source": [
    "### Solution 4\n"
   ]
  },
  {
   "cell_type": "code",
   "execution_count": 30,
   "metadata": {},
   "outputs": [
    {
     "data": {
      "text/html": [
       "<table>\n",
       "<caption>A data.frame: 4 × 1</caption>\n",
       "<thead>\n",
       "\t<tr><th></th><th scope=col>RECORD</th></tr>\n",
       "\t<tr><th></th><th scope=col>&lt;fct&gt;</th></tr>\n",
       "</thead>\n",
       "<tbody>\n",
       "\t<tr><th scope=row>1</th><td>Autumn</td></tr>\n",
       "\t<tr><th scope=row>2</th><td>Spring</td></tr>\n",
       "\t<tr><th scope=row>3</th><td>Summer</td></tr>\n",
       "\t<tr><th scope=row>4</th><td>Winter</td></tr>\n",
       "</tbody>\n",
       "</table>\n"
      ],
      "text/latex": [
       "A data.frame: 4 × 1\n",
       "\\begin{tabular}{r|l}\n",
       "  & RECORD\\\\\n",
       "  & <fct>\\\\\n",
       "\\hline\n",
       "\t1 & Autumn\\\\\n",
       "\t2 & Spring\\\\\n",
       "\t3 & Summer\\\\\n",
       "\t4 & Winter\\\\\n",
       "\\end{tabular}\n"
      ],
      "text/markdown": [
       "\n",
       "A data.frame: 4 × 1\n",
       "\n",
       "| <!--/--> | RECORD &lt;fct&gt; |\n",
       "|---|---|\n",
       "| 1 | Autumn |\n",
       "| 2 | Spring |\n",
       "| 3 | Summer |\n",
       "| 4 | Winter |\n",
       "\n"
      ],
      "text/plain": [
       "  RECORD\n",
       "1 Autumn\n",
       "2 Spring\n",
       "3 Summer\n",
       "4 Winter"
      ]
     },
     "metadata": {},
     "output_type": "display_data"
    }
   ],
   "source": [
    "# provide your solution here\n",
    "query = \"SELECT DISTINCT(SEASONS) as record FROM seoul_bike_sharing ;\"\n",
    "view <- sqlQuery(conn,query)\n",
    "view"
   ]
  },
  {
   "cell_type": "markdown",
   "metadata": {},
   "source": [
    "## Task 5 - Date Range\n",
    "#### Find the first and last dates in the Seoul Bike Sharing dataset.\n"
   ]
  },
  {
   "cell_type": "markdown",
   "metadata": {},
   "source": [
    "### Solution 5\n"
   ]
  },
  {
   "cell_type": "code",
   "execution_count": 31,
   "metadata": {},
   "outputs": [
    {
     "data": {
      "text/html": [
       "<table>\n",
       "<caption>A data.frame: 1 × 2</caption>\n",
       "<thead>\n",
       "\t<tr><th></th><th scope=col>FIRST_DATE</th><th scope=col>LAST_DATE</th></tr>\n",
       "\t<tr><th></th><th scope=col>&lt;fct&gt;</th><th scope=col>&lt;fct&gt;</th></tr>\n",
       "</thead>\n",
       "<tbody>\n",
       "\t<tr><th scope=row>1</th><td>01/01/2018</td><td>31/12/2017</td></tr>\n",
       "</tbody>\n",
       "</table>\n"
      ],
      "text/latex": [
       "A data.frame: 1 × 2\n",
       "\\begin{tabular}{r|ll}\n",
       "  & FIRST\\_DATE & LAST\\_DATE\\\\\n",
       "  & <fct> & <fct>\\\\\n",
       "\\hline\n",
       "\t1 & 01/01/2018 & 31/12/2017\\\\\n",
       "\\end{tabular}\n"
      ],
      "text/markdown": [
       "\n",
       "A data.frame: 1 × 2\n",
       "\n",
       "| <!--/--> | FIRST_DATE &lt;fct&gt; | LAST_DATE &lt;fct&gt; |\n",
       "|---|---|---|\n",
       "| 1 | 01/01/2018 | 31/12/2017 |\n",
       "\n"
      ],
      "text/plain": [
       "  FIRST_DATE LAST_DATE \n",
       "1 01/01/2018 31/12/2017"
      ]
     },
     "metadata": {},
     "output_type": "display_data"
    }
   ],
   "source": [
    "# provide your solution here\n",
    "query = \"SELECT min(DATE) as FIRST_DATE, max(DATE) as LAST_DATE FROM seoul_bike_sharing ;\"\n",
    "view <- sqlQuery(conn,query)\n",
    "view"
   ]
  },
  {
   "cell_type": "markdown",
   "metadata": {},
   "source": [
    "## Task 6 - Subquery - 'all-time high'\n",
    "#### determine which date and hour had the most bike rentals.\n"
   ]
  },
  {
   "cell_type": "markdown",
   "metadata": {},
   "source": [
    "### Solution 6\n"
   ]
  },
  {
   "cell_type": "code",
   "execution_count": 32,
   "metadata": {},
   "outputs": [
    {
     "data": {
      "text/html": [
       "<table>\n",
       "<caption>A data.frame: 1 × 3</caption>\n",
       "<thead>\n",
       "\t<tr><th></th><th scope=col>DATE</th><th scope=col>HOUR</th><th scope=col>RENTED_BIKE_COUNT</th></tr>\n",
       "\t<tr><th></th><th scope=col>&lt;fct&gt;</th><th scope=col>&lt;int&gt;</th><th scope=col>&lt;int&gt;</th></tr>\n",
       "</thead>\n",
       "<tbody>\n",
       "\t<tr><th scope=row>1</th><td>19/06/2018</td><td>18</td><td>3556</td></tr>\n",
       "</tbody>\n",
       "</table>\n"
      ],
      "text/latex": [
       "A data.frame: 1 × 3\n",
       "\\begin{tabular}{r|lll}\n",
       "  & DATE & HOUR & RENTED\\_BIKE\\_COUNT\\\\\n",
       "  & <fct> & <int> & <int>\\\\\n",
       "\\hline\n",
       "\t1 & 19/06/2018 & 18 & 3556\\\\\n",
       "\\end{tabular}\n"
      ],
      "text/markdown": [
       "\n",
       "A data.frame: 1 × 3\n",
       "\n",
       "| <!--/--> | DATE &lt;fct&gt; | HOUR &lt;int&gt; | RENTED_BIKE_COUNT &lt;int&gt; |\n",
       "|---|---|---|---|\n",
       "| 1 | 19/06/2018 | 18 | 3556 |\n",
       "\n"
      ],
      "text/plain": [
       "  DATE       HOUR RENTED_BIKE_COUNT\n",
       "1 19/06/2018 18   3556             "
      ]
     },
     "metadata": {},
     "output_type": "display_data"
    }
   ],
   "source": [
    "# provide your solution here\n",
    "query = \"SELECT DATE, HOUR,RENTED_BIKE_COUNT FROM seoul_bike_sharing \n",
    "WHERE RENTED_BIKE_COUNT = (SELECT MAX(RENTED_BIKE_COUNT) from seoul_bike_sharing);\"\n",
    "view <- sqlQuery(conn,query)\n",
    "view"
   ]
  },
  {
   "cell_type": "markdown",
   "metadata": {},
   "source": [
    "## Task 7 - Hourly popularity and temperature by season\n",
    "#### Determine the average hourly temperature and the average number of bike rentals per hour over each season. List the top ten results by average bike count.\n"
   ]
  },
  {
   "cell_type": "markdown",
   "metadata": {},
   "source": [
    "### Solution 7\n"
   ]
  },
  {
   "cell_type": "code",
   "execution_count": 33,
   "metadata": {},
   "outputs": [
    {
     "data": {
      "text/html": [
       "<table>\n",
       "<caption>A data.frame: 10 × 4</caption>\n",
       "<thead>\n",
       "\t<tr><th></th><th scope=col>SEASONS</th><th scope=col>HOUR</th><th scope=col>AVG_TEMP</th><th scope=col>AVG_RENT</th></tr>\n",
       "\t<tr><th></th><th scope=col>&lt;fct&gt;</th><th scope=col>&lt;int&gt;</th><th scope=col>&lt;dbl&gt;</th><th scope=col>&lt;int&gt;</th></tr>\n",
       "</thead>\n",
       "<tbody>\n",
       "\t<tr><th scope=row>1</th><td>Summer</td><td>18</td><td>29.38696</td><td>2135</td></tr>\n",
       "\t<tr><th scope=row>2</th><td>Autumn</td><td>18</td><td>16.03086</td><td>1983</td></tr>\n",
       "\t<tr><th scope=row>3</th><td>Summer</td><td>19</td><td>28.27283</td><td>1889</td></tr>\n",
       "\t<tr><th scope=row>4</th><td>Summer</td><td>20</td><td>27.06630</td><td>1801</td></tr>\n",
       "\t<tr><th scope=row>5</th><td>Summer</td><td>21</td><td>26.27826</td><td>1754</td></tr>\n",
       "\t<tr><th scope=row>6</th><td>Spring</td><td>18</td><td>15.97222</td><td>1689</td></tr>\n",
       "\t<tr><th scope=row>7</th><td>Summer</td><td>22</td><td>25.69891</td><td>1567</td></tr>\n",
       "\t<tr><th scope=row>8</th><td>Autumn</td><td>17</td><td>17.27778</td><td>1562</td></tr>\n",
       "\t<tr><th scope=row>9</th><td>Summer</td><td>17</td><td>30.07500</td><td>1526</td></tr>\n",
       "\t<tr><th scope=row>10</th><td>Autumn</td><td>19</td><td>15.06049</td><td>1515</td></tr>\n",
       "</tbody>\n",
       "</table>\n"
      ],
      "text/latex": [
       "A data.frame: 10 × 4\n",
       "\\begin{tabular}{r|llll}\n",
       "  & SEASONS & HOUR & AVG\\_TEMP & AVG\\_RENT\\\\\n",
       "  & <fct> & <int> & <dbl> & <int>\\\\\n",
       "\\hline\n",
       "\t1 & Summer & 18 & 29.38696 & 2135\\\\\n",
       "\t2 & Autumn & 18 & 16.03086 & 1983\\\\\n",
       "\t3 & Summer & 19 & 28.27283 & 1889\\\\\n",
       "\t4 & Summer & 20 & 27.06630 & 1801\\\\\n",
       "\t5 & Summer & 21 & 26.27826 & 1754\\\\\n",
       "\t6 & Spring & 18 & 15.97222 & 1689\\\\\n",
       "\t7 & Summer & 22 & 25.69891 & 1567\\\\\n",
       "\t8 & Autumn & 17 & 17.27778 & 1562\\\\\n",
       "\t9 & Summer & 17 & 30.07500 & 1526\\\\\n",
       "\t10 & Autumn & 19 & 15.06049 & 1515\\\\\n",
       "\\end{tabular}\n"
      ],
      "text/markdown": [
       "\n",
       "A data.frame: 10 × 4\n",
       "\n",
       "| <!--/--> | SEASONS &lt;fct&gt; | HOUR &lt;int&gt; | AVG_TEMP &lt;dbl&gt; | AVG_RENT &lt;int&gt; |\n",
       "|---|---|---|---|---|\n",
       "| 1 | Summer | 18 | 29.38696 | 2135 |\n",
       "| 2 | Autumn | 18 | 16.03086 | 1983 |\n",
       "| 3 | Summer | 19 | 28.27283 | 1889 |\n",
       "| 4 | Summer | 20 | 27.06630 | 1801 |\n",
       "| 5 | Summer | 21 | 26.27826 | 1754 |\n",
       "| 6 | Spring | 18 | 15.97222 | 1689 |\n",
       "| 7 | Summer | 22 | 25.69891 | 1567 |\n",
       "| 8 | Autumn | 17 | 17.27778 | 1562 |\n",
       "| 9 | Summer | 17 | 30.07500 | 1526 |\n",
       "| 10 | Autumn | 19 | 15.06049 | 1515 |\n",
       "\n"
      ],
      "text/plain": [
       "   SEASONS HOUR AVG_TEMP AVG_RENT\n",
       "1  Summer  18   29.38696 2135    \n",
       "2  Autumn  18   16.03086 1983    \n",
       "3  Summer  19   28.27283 1889    \n",
       "4  Summer  20   27.06630 1801    \n",
       "5  Summer  21   26.27826 1754    \n",
       "6  Spring  18   15.97222 1689    \n",
       "7  Summer  22   25.69891 1567    \n",
       "8  Autumn  17   17.27778 1562    \n",
       "9  Summer  17   30.07500 1526    \n",
       "10 Autumn  19   15.06049 1515    "
      ]
     },
     "metadata": {},
     "output_type": "display_data"
    }
   ],
   "source": [
    "# provide your solution here\n",
    "query = \"SELECT SEASONS, HOUR, AVG(TEMPERATURE) as AVG_TEMP, AVG(RENTED_BIKE_COUNT) as AVG_RENT\n",
    "FROM seoul_bike_sharing\n",
    "GROUP by HOUR,SEASONS\n",
    "ORDER BY AVG_RENT DESC\n",
    "LIMIT 10;\"\n",
    "view <- sqlQuery(conn,query)\n",
    "view"
   ]
  },
  {
   "cell_type": "markdown",
   "metadata": {},
   "source": [
    "## Task 8 - Rental Seasonality\n",
    "#### Find the average hourly bike count during each season. \n",
    "Also include the minimum, maximum, and standard deviation of the hourly bike count for each season. \n"
   ]
  },
  {
   "cell_type": "markdown",
   "metadata": {},
   "source": [
    "### Solution 8\n"
   ]
  },
  {
   "cell_type": "code",
   "execution_count": 37,
   "metadata": {},
   "outputs": [
    {
     "data": {
      "text/html": [
       "<table>\n",
       "<caption>A data.frame: 96 × 6</caption>\n",
       "<thead>\n",
       "\t<tr><th></th><th scope=col>SEASONS</th><th scope=col>HOUR</th><th scope=col>MEAN</th><th scope=col>MINN</th><th scope=col>MAXX</th><th scope=col>STD_L</th></tr>\n",
       "\t<tr><th></th><th scope=col>&lt;fct&gt;</th><th scope=col>&lt;int&gt;</th><th scope=col>&lt;int&gt;</th><th scope=col>&lt;int&gt;</th><th scope=col>&lt;int&gt;</th><th scope=col>&lt;dbl&gt;</th></tr>\n",
       "</thead>\n",
       "<tbody>\n",
       "\t<tr><th scope=row>1</th><td>Summer</td><td>18</td><td>2135</td><td>17</td><td>3556</td><td>884.0829</td></tr>\n",
       "\t<tr><th scope=row>2</th><td>Autumn</td><td>18</td><td>1983</td><td>40</td><td>3298</td><td>778.4414</td></tr>\n",
       "\t<tr><th scope=row>3</th><td>Summer</td><td>19</td><td>1889</td><td>18</td><td>2984</td><td>728.8799</td></tr>\n",
       "\t<tr><th scope=row>4</th><td>Summer</td><td>20</td><td>1801</td><td>10</td><td>2579</td><td>662.2163</td></tr>\n",
       "\t<tr><th scope=row>5</th><td>Summer</td><td>21</td><td>1754</td><td>17</td><td>2505</td><td>596.1374</td></tr>\n",
       "\t<tr><th scope=row>6</th><td>Spring</td><td>18</td><td>1689</td><td>22</td><td>3251</td><td>898.8971</td></tr>\n",
       "\t<tr><th scope=row>7</th><td>Summer</td><td>22</td><td>1567</td><td>16</td><td>2309</td><td>516.6434</td></tr>\n",
       "\t<tr><th scope=row>8</th><td>Autumn</td><td>17</td><td>1562</td><td>23</td><td>2432</td><td>554.3165</td></tr>\n",
       "\t<tr><th scope=row>9</th><td>Summer</td><td>17</td><td>1526</td><td>25</td><td>2664</td><td>608.7917</td></tr>\n",
       "\t<tr><th scope=row>10</th><td>Autumn</td><td>19</td><td>1515</td><td>19</td><td>2518</td><td>571.1497</td></tr>\n",
       "\t<tr><th scope=row>11</th><td>Summer</td><td> 8</td><td>1418</td><td>20</td><td>2495</td><td>712.9526</td></tr>\n",
       "\t<tr><th scope=row>12</th><td>Autumn</td><td> 8</td><td>1345</td><td> 6</td><td>2391</td><td>758.3596</td></tr>\n",
       "\t<tr><th scope=row>13</th><td>Autumn</td><td>20</td><td>1321</td><td>12</td><td>2259</td><td>508.9914</td></tr>\n",
       "\t<tr><th scope=row>14</th><td>Spring</td><td>17</td><td>1307</td><td>24</td><td>2410</td><td>666.9594</td></tr>\n",
       "\t<tr><th scope=row>15</th><td>Autumn</td><td>16</td><td>1293</td><td>14</td><td>2270</td><td>498.1064</td></tr>\n",
       "\t<tr><th scope=row>16</th><td>Autumn</td><td>21</td><td>1253</td><td>21</td><td>2212</td><td>490.9286</td></tr>\n",
       "\t<tr><th scope=row>17</th><td>Spring</td><td>19</td><td>1247</td><td>29</td><td>2656</td><td>738.1156</td></tr>\n",
       "\t<tr><th scope=row>18</th><td>Summer</td><td>16</td><td>1174</td><td>41</td><td>2474</td><td>503.9160</td></tr>\n",
       "\t<tr><th scope=row>19</th><td>Autumn</td><td>15</td><td>1156</td><td> 8</td><td>2200</td><td>455.2181</td></tr>\n",
       "\t<tr><th scope=row>20</th><td>Summer</td><td>23</td><td>1153</td><td>15</td><td>1732</td><td>377.8067</td></tr>\n",
       "\t<tr><th scope=row>21</th><td>Autumn</td><td>22</td><td>1130</td><td>14</td><td>1868</td><td>411.9693</td></tr>\n",
       "\t<tr><th scope=row>22</th><td>Spring</td><td>16</td><td>1101</td><td>31</td><td>2479</td><td>579.0751</td></tr>\n",
       "\t<tr><th scope=row>23</th><td>Spring</td><td>20</td><td>1060</td><td>12</td><td>2252</td><td>646.1684</td></tr>\n",
       "\t<tr><th scope=row>24</th><td>Autumn</td><td>14</td><td>1058</td><td>17</td><td>1995</td><td>403.8528</td></tr>\n",
       "\t<tr><th scope=row>25</th><td>Spring</td><td> 8</td><td>1036</td><td>16</td><td>2281</td><td>700.5977</td></tr>\n",
       "\t<tr><th scope=row>26</th><td>Spring</td><td>21</td><td>1021</td><td> 7</td><td>2140</td><td>601.2692</td></tr>\n",
       "\t<tr><th scope=row>27</th><td>Summer</td><td>15</td><td>1009</td><td>51</td><td>2288</td><td>433.4837</td></tr>\n",
       "\t<tr><th scope=row>28</th><td>Autumn</td><td>13</td><td>1002</td><td>18</td><td>1849</td><td>369.3100</td></tr>\n",
       "\t<tr><th scope=row>29</th><td>Spring</td><td>15</td><td> 990</td><td>14</td><td>2329</td><td>534.9891</td></tr>\n",
       "\t<tr><th scope=row>30</th><td>Autumn</td><td>12</td><td> 934</td><td>17</td><td>1634</td><td>347.6907</td></tr>\n",
       "\t<tr><th scope=row>⋮</th><td>⋮</td><td>⋮</td><td>⋮</td><td>⋮</td><td>⋮</td><td>⋮</td></tr>\n",
       "\t<tr><th scope=row>67</th><td>Winter</td><td>19</td><td>304</td><td>19</td><td>619</td><td>140.32070</td></tr>\n",
       "\t<tr><th scope=row>68</th><td>Winter</td><td>15</td><td>298</td><td> 7</td><td>621</td><td>117.54473</td></tr>\n",
       "\t<tr><th scope=row>69</th><td>Winter</td><td>14</td><td>284</td><td>17</td><td>611</td><td>105.02394</td></tr>\n",
       "\t<tr><th scope=row>70</th><td>Winter</td><td>13</td><td>275</td><td> 7</td><td>606</td><td> 98.32616</td></tr>\n",
       "\t<tr><th scope=row>71</th><td>Winter</td><td>12</td><td>263</td><td> 4</td><td>479</td><td> 88.68163</td></tr>\n",
       "\t<tr><th scope=row>72</th><td>Spring</td><td> 6</td><td>257</td><td> 5</td><td>646</td><td>171.97416</td></tr>\n",
       "\t<tr><th scope=row>73</th><td>Autumn</td><td> 3</td><td>256</td><td>28</td><td>514</td><td>102.53108</td></tr>\n",
       "\t<tr><th scope=row>74</th><td>Winter</td><td> 9</td><td>254</td><td> 3</td><td>509</td><td>111.70276</td></tr>\n",
       "\t<tr><th scope=row>75</th><td>Spring</td><td> 2</td><td>252</td><td> 9</td><td>590</td><td>145.32266</td></tr>\n",
       "\t<tr><th scope=row>76</th><td>Summer</td><td> 5</td><td>245</td><td>28</td><td>383</td><td> 79.82056</td></tr>\n",
       "\t<tr><th scope=row>77</th><td>Winter</td><td>20</td><td>243</td><td> 8</td><td>483</td><td> 96.22694</td></tr>\n",
       "\t<tr><th scope=row>78</th><td>Winter</td><td>21</td><td>240</td><td>10</td><td>512</td><td> 98.08061</td></tr>\n",
       "\t<tr><th scope=row>79</th><td>Winter</td><td>11</td><td>228</td><td> 9</td><td>388</td><td> 78.23964</td></tr>\n",
       "\t<tr><th scope=row>80</th><td>Winter</td><td>22</td><td>225</td><td>13</td><td>461</td><td> 91.87687</td></tr>\n",
       "\t<tr><th scope=row>81</th><td>Summer</td><td> 4</td><td>223</td><td>27</td><td>421</td><td> 79.24027</td></tr>\n",
       "\t<tr><th scope=row>82</th><td>Winter</td><td> 7</td><td>209</td><td> 3</td><td>498</td><td>125.47121</td></tr>\n",
       "\t<tr><th scope=row>83</th><td>Winter</td><td>10</td><td>186</td><td> 4</td><td>339</td><td> 67.98150</td></tr>\n",
       "\t<tr><th scope=row>84</th><td>Winter</td><td>23</td><td>173</td><td>23</td><td>366</td><td> 67.49684</td></tr>\n",
       "\t<tr><th scope=row>85</th><td>Autumn</td><td> 4</td><td>169</td><td>24</td><td>338</td><td> 58.63957</td></tr>\n",
       "\t<tr><th scope=row>86</th><td>Spring</td><td> 3</td><td>168</td><td> 2</td><td>423</td><td>101.20444</td></tr>\n",
       "\t<tr><th scope=row>87</th><td>Winter</td><td> 0</td><td>165</td><td>42</td><td>342</td><td> 63.81163</td></tr>\n",
       "\t<tr><th scope=row>88</th><td>Autumn</td><td> 5</td><td>163</td><td>24</td><td>264</td><td> 53.88174</td></tr>\n",
       "\t<tr><th scope=row>89</th><td>Winter</td><td> 1</td><td>159</td><td>43</td><td>337</td><td> 65.84247</td></tr>\n",
       "\t<tr><th scope=row>90</th><td>Winter</td><td> 2</td><td>117</td><td>38</td><td>312</td><td> 54.94533</td></tr>\n",
       "\t<tr><th scope=row>91</th><td>Spring</td><td> 5</td><td>116</td><td> 6</td><td>265</td><td> 64.93117</td></tr>\n",
       "\t<tr><th scope=row>92</th><td>Spring</td><td> 4</td><td>108</td><td> 2</td><td>252</td><td> 59.64577</td></tr>\n",
       "\t<tr><th scope=row>93</th><td>Winter</td><td> 6</td><td> 92</td><td> 9</td><td>200</td><td> 45.48372</td></tr>\n",
       "\t<tr><th scope=row>94</th><td>Winter</td><td> 3</td><td> 77</td><td>21</td><td>230</td><td> 37.68256</td></tr>\n",
       "\t<tr><th scope=row>95</th><td>Winter</td><td> 5</td><td> 51</td><td>13</td><td>100</td><td> 18.98759</td></tr>\n",
       "\t<tr><th scope=row>96</th><td>Winter</td><td> 4</td><td> 50</td><td>20</td><td>120</td><td> 19.05561</td></tr>\n",
       "</tbody>\n",
       "</table>\n"
      ],
      "text/latex": [
       "A data.frame: 96 × 6\n",
       "\\begin{tabular}{r|llllll}\n",
       "  & SEASONS & HOUR & MEAN & MINN & MAXX & STD\\_L\\\\\n",
       "  & <fct> & <int> & <int> & <int> & <int> & <dbl>\\\\\n",
       "\\hline\n",
       "\t1 & Summer & 18 & 2135 & 17 & 3556 & 884.0829\\\\\n",
       "\t2 & Autumn & 18 & 1983 & 40 & 3298 & 778.4414\\\\\n",
       "\t3 & Summer & 19 & 1889 & 18 & 2984 & 728.8799\\\\\n",
       "\t4 & Summer & 20 & 1801 & 10 & 2579 & 662.2163\\\\\n",
       "\t5 & Summer & 21 & 1754 & 17 & 2505 & 596.1374\\\\\n",
       "\t6 & Spring & 18 & 1689 & 22 & 3251 & 898.8971\\\\\n",
       "\t7 & Summer & 22 & 1567 & 16 & 2309 & 516.6434\\\\\n",
       "\t8 & Autumn & 17 & 1562 & 23 & 2432 & 554.3165\\\\\n",
       "\t9 & Summer & 17 & 1526 & 25 & 2664 & 608.7917\\\\\n",
       "\t10 & Autumn & 19 & 1515 & 19 & 2518 & 571.1497\\\\\n",
       "\t11 & Summer &  8 & 1418 & 20 & 2495 & 712.9526\\\\\n",
       "\t12 & Autumn &  8 & 1345 &  6 & 2391 & 758.3596\\\\\n",
       "\t13 & Autumn & 20 & 1321 & 12 & 2259 & 508.9914\\\\\n",
       "\t14 & Spring & 17 & 1307 & 24 & 2410 & 666.9594\\\\\n",
       "\t15 & Autumn & 16 & 1293 & 14 & 2270 & 498.1064\\\\\n",
       "\t16 & Autumn & 21 & 1253 & 21 & 2212 & 490.9286\\\\\n",
       "\t17 & Spring & 19 & 1247 & 29 & 2656 & 738.1156\\\\\n",
       "\t18 & Summer & 16 & 1174 & 41 & 2474 & 503.9160\\\\\n",
       "\t19 & Autumn & 15 & 1156 &  8 & 2200 & 455.2181\\\\\n",
       "\t20 & Summer & 23 & 1153 & 15 & 1732 & 377.8067\\\\\n",
       "\t21 & Autumn & 22 & 1130 & 14 & 1868 & 411.9693\\\\\n",
       "\t22 & Spring & 16 & 1101 & 31 & 2479 & 579.0751\\\\\n",
       "\t23 & Spring & 20 & 1060 & 12 & 2252 & 646.1684\\\\\n",
       "\t24 & Autumn & 14 & 1058 & 17 & 1995 & 403.8528\\\\\n",
       "\t25 & Spring &  8 & 1036 & 16 & 2281 & 700.5977\\\\\n",
       "\t26 & Spring & 21 & 1021 &  7 & 2140 & 601.2692\\\\\n",
       "\t27 & Summer & 15 & 1009 & 51 & 2288 & 433.4837\\\\\n",
       "\t28 & Autumn & 13 & 1002 & 18 & 1849 & 369.3100\\\\\n",
       "\t29 & Spring & 15 &  990 & 14 & 2329 & 534.9891\\\\\n",
       "\t30 & Autumn & 12 &  934 & 17 & 1634 & 347.6907\\\\\n",
       "\t⋮ & ⋮ & ⋮ & ⋮ & ⋮ & ⋮ & ⋮\\\\\n",
       "\t67 & Winter & 19 & 304 & 19 & 619 & 140.32070\\\\\n",
       "\t68 & Winter & 15 & 298 &  7 & 621 & 117.54473\\\\\n",
       "\t69 & Winter & 14 & 284 & 17 & 611 & 105.02394\\\\\n",
       "\t70 & Winter & 13 & 275 &  7 & 606 &  98.32616\\\\\n",
       "\t71 & Winter & 12 & 263 &  4 & 479 &  88.68163\\\\\n",
       "\t72 & Spring &  6 & 257 &  5 & 646 & 171.97416\\\\\n",
       "\t73 & Autumn &  3 & 256 & 28 & 514 & 102.53108\\\\\n",
       "\t74 & Winter &  9 & 254 &  3 & 509 & 111.70276\\\\\n",
       "\t75 & Spring &  2 & 252 &  9 & 590 & 145.32266\\\\\n",
       "\t76 & Summer &  5 & 245 & 28 & 383 &  79.82056\\\\\n",
       "\t77 & Winter & 20 & 243 &  8 & 483 &  96.22694\\\\\n",
       "\t78 & Winter & 21 & 240 & 10 & 512 &  98.08061\\\\\n",
       "\t79 & Winter & 11 & 228 &  9 & 388 &  78.23964\\\\\n",
       "\t80 & Winter & 22 & 225 & 13 & 461 &  91.87687\\\\\n",
       "\t81 & Summer &  4 & 223 & 27 & 421 &  79.24027\\\\\n",
       "\t82 & Winter &  7 & 209 &  3 & 498 & 125.47121\\\\\n",
       "\t83 & Winter & 10 & 186 &  4 & 339 &  67.98150\\\\\n",
       "\t84 & Winter & 23 & 173 & 23 & 366 &  67.49684\\\\\n",
       "\t85 & Autumn &  4 & 169 & 24 & 338 &  58.63957\\\\\n",
       "\t86 & Spring &  3 & 168 &  2 & 423 & 101.20444\\\\\n",
       "\t87 & Winter &  0 & 165 & 42 & 342 &  63.81163\\\\\n",
       "\t88 & Autumn &  5 & 163 & 24 & 264 &  53.88174\\\\\n",
       "\t89 & Winter &  1 & 159 & 43 & 337 &  65.84247\\\\\n",
       "\t90 & Winter &  2 & 117 & 38 & 312 &  54.94533\\\\\n",
       "\t91 & Spring &  5 & 116 &  6 & 265 &  64.93117\\\\\n",
       "\t92 & Spring &  4 & 108 &  2 & 252 &  59.64577\\\\\n",
       "\t93 & Winter &  6 &  92 &  9 & 200 &  45.48372\\\\\n",
       "\t94 & Winter &  3 &  77 & 21 & 230 &  37.68256\\\\\n",
       "\t95 & Winter &  5 &  51 & 13 & 100 &  18.98759\\\\\n",
       "\t96 & Winter &  4 &  50 & 20 & 120 &  19.05561\\\\\n",
       "\\end{tabular}\n"
      ],
      "text/markdown": [
       "\n",
       "A data.frame: 96 × 6\n",
       "\n",
       "| <!--/--> | SEASONS &lt;fct&gt; | HOUR &lt;int&gt; | MEAN &lt;int&gt; | MINN &lt;int&gt; | MAXX &lt;int&gt; | STD_L &lt;dbl&gt; |\n",
       "|---|---|---|---|---|---|---|\n",
       "| 1 | Summer | 18 | 2135 | 17 | 3556 | 884.0829 |\n",
       "| 2 | Autumn | 18 | 1983 | 40 | 3298 | 778.4414 |\n",
       "| 3 | Summer | 19 | 1889 | 18 | 2984 | 728.8799 |\n",
       "| 4 | Summer | 20 | 1801 | 10 | 2579 | 662.2163 |\n",
       "| 5 | Summer | 21 | 1754 | 17 | 2505 | 596.1374 |\n",
       "| 6 | Spring | 18 | 1689 | 22 | 3251 | 898.8971 |\n",
       "| 7 | Summer | 22 | 1567 | 16 | 2309 | 516.6434 |\n",
       "| 8 | Autumn | 17 | 1562 | 23 | 2432 | 554.3165 |\n",
       "| 9 | Summer | 17 | 1526 | 25 | 2664 | 608.7917 |\n",
       "| 10 | Autumn | 19 | 1515 | 19 | 2518 | 571.1497 |\n",
       "| 11 | Summer |  8 | 1418 | 20 | 2495 | 712.9526 |\n",
       "| 12 | Autumn |  8 | 1345 |  6 | 2391 | 758.3596 |\n",
       "| 13 | Autumn | 20 | 1321 | 12 | 2259 | 508.9914 |\n",
       "| 14 | Spring | 17 | 1307 | 24 | 2410 | 666.9594 |\n",
       "| 15 | Autumn | 16 | 1293 | 14 | 2270 | 498.1064 |\n",
       "| 16 | Autumn | 21 | 1253 | 21 | 2212 | 490.9286 |\n",
       "| 17 | Spring | 19 | 1247 | 29 | 2656 | 738.1156 |\n",
       "| 18 | Summer | 16 | 1174 | 41 | 2474 | 503.9160 |\n",
       "| 19 | Autumn | 15 | 1156 |  8 | 2200 | 455.2181 |\n",
       "| 20 | Summer | 23 | 1153 | 15 | 1732 | 377.8067 |\n",
       "| 21 | Autumn | 22 | 1130 | 14 | 1868 | 411.9693 |\n",
       "| 22 | Spring | 16 | 1101 | 31 | 2479 | 579.0751 |\n",
       "| 23 | Spring | 20 | 1060 | 12 | 2252 | 646.1684 |\n",
       "| 24 | Autumn | 14 | 1058 | 17 | 1995 | 403.8528 |\n",
       "| 25 | Spring |  8 | 1036 | 16 | 2281 | 700.5977 |\n",
       "| 26 | Spring | 21 | 1021 |  7 | 2140 | 601.2692 |\n",
       "| 27 | Summer | 15 | 1009 | 51 | 2288 | 433.4837 |\n",
       "| 28 | Autumn | 13 | 1002 | 18 | 1849 | 369.3100 |\n",
       "| 29 | Spring | 15 |  990 | 14 | 2329 | 534.9891 |\n",
       "| 30 | Autumn | 12 |  934 | 17 | 1634 | 347.6907 |\n",
       "| ⋮ | ⋮ | ⋮ | ⋮ | ⋮ | ⋮ | ⋮ |\n",
       "| 67 | Winter | 19 | 304 | 19 | 619 | 140.32070 |\n",
       "| 68 | Winter | 15 | 298 |  7 | 621 | 117.54473 |\n",
       "| 69 | Winter | 14 | 284 | 17 | 611 | 105.02394 |\n",
       "| 70 | Winter | 13 | 275 |  7 | 606 |  98.32616 |\n",
       "| 71 | Winter | 12 | 263 |  4 | 479 |  88.68163 |\n",
       "| 72 | Spring |  6 | 257 |  5 | 646 | 171.97416 |\n",
       "| 73 | Autumn |  3 | 256 | 28 | 514 | 102.53108 |\n",
       "| 74 | Winter |  9 | 254 |  3 | 509 | 111.70276 |\n",
       "| 75 | Spring |  2 | 252 |  9 | 590 | 145.32266 |\n",
       "| 76 | Summer |  5 | 245 | 28 | 383 |  79.82056 |\n",
       "| 77 | Winter | 20 | 243 |  8 | 483 |  96.22694 |\n",
       "| 78 | Winter | 21 | 240 | 10 | 512 |  98.08061 |\n",
       "| 79 | Winter | 11 | 228 |  9 | 388 |  78.23964 |\n",
       "| 80 | Winter | 22 | 225 | 13 | 461 |  91.87687 |\n",
       "| 81 | Summer |  4 | 223 | 27 | 421 |  79.24027 |\n",
       "| 82 | Winter |  7 | 209 |  3 | 498 | 125.47121 |\n",
       "| 83 | Winter | 10 | 186 |  4 | 339 |  67.98150 |\n",
       "| 84 | Winter | 23 | 173 | 23 | 366 |  67.49684 |\n",
       "| 85 | Autumn |  4 | 169 | 24 | 338 |  58.63957 |\n",
       "| 86 | Spring |  3 | 168 |  2 | 423 | 101.20444 |\n",
       "| 87 | Winter |  0 | 165 | 42 | 342 |  63.81163 |\n",
       "| 88 | Autumn |  5 | 163 | 24 | 264 |  53.88174 |\n",
       "| 89 | Winter |  1 | 159 | 43 | 337 |  65.84247 |\n",
       "| 90 | Winter |  2 | 117 | 38 | 312 |  54.94533 |\n",
       "| 91 | Spring |  5 | 116 |  6 | 265 |  64.93117 |\n",
       "| 92 | Spring |  4 | 108 |  2 | 252 |  59.64577 |\n",
       "| 93 | Winter |  6 |  92 |  9 | 200 |  45.48372 |\n",
       "| 94 | Winter |  3 |  77 | 21 | 230 |  37.68256 |\n",
       "| 95 | Winter |  5 |  51 | 13 | 100 |  18.98759 |\n",
       "| 96 | Winter |  4 |  50 | 20 | 120 |  19.05561 |\n",
       "\n"
      ],
      "text/plain": [
       "   SEASONS HOUR MEAN MINN MAXX STD_L    \n",
       "1  Summer  18   2135 17   3556 884.0829 \n",
       "2  Autumn  18   1983 40   3298 778.4414 \n",
       "3  Summer  19   1889 18   2984 728.8799 \n",
       "4  Summer  20   1801 10   2579 662.2163 \n",
       "5  Summer  21   1754 17   2505 596.1374 \n",
       "6  Spring  18   1689 22   3251 898.8971 \n",
       "7  Summer  22   1567 16   2309 516.6434 \n",
       "8  Autumn  17   1562 23   2432 554.3165 \n",
       "9  Summer  17   1526 25   2664 608.7917 \n",
       "10 Autumn  19   1515 19   2518 571.1497 \n",
       "11 Summer   8   1418 20   2495 712.9526 \n",
       "12 Autumn   8   1345  6   2391 758.3596 \n",
       "13 Autumn  20   1321 12   2259 508.9914 \n",
       "14 Spring  17   1307 24   2410 666.9594 \n",
       "15 Autumn  16   1293 14   2270 498.1064 \n",
       "16 Autumn  21   1253 21   2212 490.9286 \n",
       "17 Spring  19   1247 29   2656 738.1156 \n",
       "18 Summer  16   1174 41   2474 503.9160 \n",
       "19 Autumn  15   1156  8   2200 455.2181 \n",
       "20 Summer  23   1153 15   1732 377.8067 \n",
       "21 Autumn  22   1130 14   1868 411.9693 \n",
       "22 Spring  16   1101 31   2479 579.0751 \n",
       "23 Spring  20   1060 12   2252 646.1684 \n",
       "24 Autumn  14   1058 17   1995 403.8528 \n",
       "25 Spring   8   1036 16   2281 700.5977 \n",
       "26 Spring  21   1021  7   2140 601.2692 \n",
       "27 Summer  15   1009 51   2288 433.4837 \n",
       "28 Autumn  13   1002 18   1849 369.3100 \n",
       "29 Spring  15    990 14   2329 534.9891 \n",
       "30 Autumn  12    934 17   1634 347.6907 \n",
       "⋮  ⋮       ⋮    ⋮    ⋮    ⋮    ⋮        \n",
       "67 Winter  19   304  19   619  140.32070\n",
       "68 Winter  15   298   7   621  117.54473\n",
       "69 Winter  14   284  17   611  105.02394\n",
       "70 Winter  13   275   7   606   98.32616\n",
       "71 Winter  12   263   4   479   88.68163\n",
       "72 Spring   6   257   5   646  171.97416\n",
       "73 Autumn   3   256  28   514  102.53108\n",
       "74 Winter   9   254   3   509  111.70276\n",
       "75 Spring   2   252   9   590  145.32266\n",
       "76 Summer   5   245  28   383   79.82056\n",
       "77 Winter  20   243   8   483   96.22694\n",
       "78 Winter  21   240  10   512   98.08061\n",
       "79 Winter  11   228   9   388   78.23964\n",
       "80 Winter  22   225  13   461   91.87687\n",
       "81 Summer   4   223  27   421   79.24027\n",
       "82 Winter   7   209   3   498  125.47121\n",
       "83 Winter  10   186   4   339   67.98150\n",
       "84 Winter  23   173  23   366   67.49684\n",
       "85 Autumn   4   169  24   338   58.63957\n",
       "86 Spring   3   168   2   423  101.20444\n",
       "87 Winter   0   165  42   342   63.81163\n",
       "88 Autumn   5   163  24   264   53.88174\n",
       "89 Winter   1   159  43   337   65.84247\n",
       "90 Winter   2   117  38   312   54.94533\n",
       "91 Spring   5   116   6   265   64.93117\n",
       "92 Spring   4   108   2   252   59.64577\n",
       "93 Winter   6    92   9   200   45.48372\n",
       "94 Winter   3    77  21   230   37.68256\n",
       "95 Winter   5    51  13   100   18.98759\n",
       "96 Winter   4    50  20   120   19.05561"
      ]
     },
     "metadata": {},
     "output_type": "display_data"
    }
   ],
   "source": [
    "# provide your solution here\n",
    "query = \"SELECT SEASONS, HOUR, AVG(RENTED_BIKE_COUNT) as mean,\n",
    "min(RENTED_BIKE_COUNT) as minn,\n",
    "max(RENTED_BIKE_COUNT) as maxx,\n",
    "STDDEV_POP(RENTED_BIKE_COUNT) as STD_l\n",
    "FROM seoul_bike_sharing\n",
    "GROUP by HOUR,SEASONS\n",
    "ORDER BY mean DESC;\"\n",
    "view <- sqlQuery(conn,query)\n",
    "view"
   ]
  },
  {
   "cell_type": "markdown",
   "metadata": {},
   "source": [
    "Let's explore a bit and see what might be the most significant contributing factors in terms of the provided data.\n"
   ]
  },
  {
   "cell_type": "markdown",
   "metadata": {},
   "source": [
    "## Task 9 - Weather Seasonality\n",
    "#### Consider the weather over each season. On average, what were the TEMPERATURE, HUMIDITY, WIND_SPEED, VISIBILITY, DEW_POINT_TEMPERATURE, SOLAR_RADIATION, RAINFALL, and SNOWFALL per season?\n",
    "Include the average bike count as well , and rank the results by average bike count so you can see if it is correlated with the weather at all. \n"
   ]
  },
  {
   "cell_type": "markdown",
   "metadata": {
    "tags": []
   },
   "source": [
    "### Solution 9\n"
   ]
  },
  {
   "cell_type": "code",
   "execution_count": 18,
   "metadata": {},
   "outputs": [
    {
     "data": {
      "text/html": [
       "<table>\n",
       "<caption>A data.frame: 4 × 10</caption>\n",
       "<thead>\n",
       "\t<tr><th></th><th scope=col>SEASONS</th><th scope=col>RENTED_BIKE_COUNT</th><th scope=col>TEMPERATURE</th><th scope=col>HUMIDITY</th><th scope=col>WIND_SPEED</th><th scope=col>VISIBILITY</th><th scope=col>DEW_POINT_TEMPERATURE</th><th scope=col>SOLAR_RADIATION</th><th scope=col>RAINFALL</th><th scope=col>SNOWFALL</th></tr>\n",
       "\t<tr><th></th><th scope=col>&lt;fct&gt;</th><th scope=col>&lt;int&gt;</th><th scope=col>&lt;dbl&gt;</th><th scope=col>&lt;int&gt;</th><th scope=col>&lt;dbl&gt;</th><th scope=col>&lt;int&gt;</th><th scope=col>&lt;dbl&gt;</th><th scope=col>&lt;dbl&gt;</th><th scope=col>&lt;dbl&gt;</th><th scope=col>&lt;dbl&gt;</th></tr>\n",
       "</thead>\n",
       "<tbody>\n",
       "\t<tr><th scope=row>1</th><td>Summer</td><td>1034</td><td>26.587274</td><td>64</td><td>1.609420</td><td>1501</td><td> 18.750136</td><td>0.7612545</td><td>0.25348732</td><td>0.00000000</td></tr>\n",
       "\t<tr><th scope=row>2</th><td>Autumn</td><td> 924</td><td>13.821167</td><td>59</td><td>1.492101</td><td>1558</td><td>  5.150594</td><td>0.5227827</td><td>0.11765617</td><td>0.06350026</td></tr>\n",
       "\t<tr><th scope=row>3</th><td>Spring</td><td> 746</td><td>13.021389</td><td>58</td><td>1.857778</td><td>1240</td><td>  4.091389</td><td>0.6803009</td><td>0.18694444</td><td>0.00000000</td></tr>\n",
       "\t<tr><th scope=row>4</th><td>Winter</td><td> 225</td><td>-2.540463</td><td>49</td><td>1.922685</td><td>1445</td><td>-12.416667</td><td>0.2981806</td><td>0.03282407</td><td>0.24750000</td></tr>\n",
       "</tbody>\n",
       "</table>\n"
      ],
      "text/latex": [
       "A data.frame: 4 × 10\n",
       "\\begin{tabular}{r|llllllllll}\n",
       "  & SEASONS & RENTED\\_BIKE\\_COUNT & TEMPERATURE & HUMIDITY & WIND\\_SPEED & VISIBILITY & DEW\\_POINT\\_TEMPERATURE & SOLAR\\_RADIATION & RAINFALL & SNOWFALL\\\\\n",
       "  & <fct> & <int> & <dbl> & <int> & <dbl> & <int> & <dbl> & <dbl> & <dbl> & <dbl>\\\\\n",
       "\\hline\n",
       "\t1 & Summer & 1034 & 26.587274 & 64 & 1.609420 & 1501 &  18.750136 & 0.7612545 & 0.25348732 & 0.00000000\\\\\n",
       "\t2 & Autumn &  924 & 13.821167 & 59 & 1.492101 & 1558 &   5.150594 & 0.5227827 & 0.11765617 & 0.06350026\\\\\n",
       "\t3 & Spring &  746 & 13.021389 & 58 & 1.857778 & 1240 &   4.091389 & 0.6803009 & 0.18694444 & 0.00000000\\\\\n",
       "\t4 & Winter &  225 & -2.540463 & 49 & 1.922685 & 1445 & -12.416667 & 0.2981806 & 0.03282407 & 0.24750000\\\\\n",
       "\\end{tabular}\n"
      ],
      "text/markdown": [
       "\n",
       "A data.frame: 4 × 10\n",
       "\n",
       "| <!--/--> | SEASONS &lt;fct&gt; | RENTED_BIKE_COUNT &lt;int&gt; | TEMPERATURE &lt;dbl&gt; | HUMIDITY &lt;int&gt; | WIND_SPEED &lt;dbl&gt; | VISIBILITY &lt;int&gt; | DEW_POINT_TEMPERATURE &lt;dbl&gt; | SOLAR_RADIATION &lt;dbl&gt; | RAINFALL &lt;dbl&gt; | SNOWFALL &lt;dbl&gt; |\n",
       "|---|---|---|---|---|---|---|---|---|---|---|\n",
       "| 1 | Summer | 1034 | 26.587274 | 64 | 1.609420 | 1501 |  18.750136 | 0.7612545 | 0.25348732 | 0.00000000 |\n",
       "| 2 | Autumn |  924 | 13.821167 | 59 | 1.492101 | 1558 |   5.150594 | 0.5227827 | 0.11765617 | 0.06350026 |\n",
       "| 3 | Spring |  746 | 13.021389 | 58 | 1.857778 | 1240 |   4.091389 | 0.6803009 | 0.18694444 | 0.00000000 |\n",
       "| 4 | Winter |  225 | -2.540463 | 49 | 1.922685 | 1445 | -12.416667 | 0.2981806 | 0.03282407 | 0.24750000 |\n",
       "\n"
      ],
      "text/plain": [
       "  SEASONS RENTED_BIKE_COUNT TEMPERATURE HUMIDITY WIND_SPEED VISIBILITY\n",
       "1 Summer  1034              26.587274   64       1.609420   1501      \n",
       "2 Autumn   924              13.821167   59       1.492101   1558      \n",
       "3 Spring   746              13.021389   58       1.857778   1240      \n",
       "4 Winter   225              -2.540463   49       1.922685   1445      \n",
       "  DEW_POINT_TEMPERATURE SOLAR_RADIATION RAINFALL   SNOWFALL  \n",
       "1  18.750136            0.7612545       0.25348732 0.00000000\n",
       "2   5.150594            0.5227827       0.11765617 0.06350026\n",
       "3   4.091389            0.6803009       0.18694444 0.00000000\n",
       "4 -12.416667            0.2981806       0.03282407 0.24750000"
      ]
     },
     "metadata": {},
     "output_type": "display_data"
    }
   ],
   "source": [
    " # provide your solution here\n",
    "query=\"SELECT SEASONS, AVG(rented_bike_count) as rented_bike_count,\n",
    "AVG(TEMPERATURE)as TEMPERATURE, AVG(HUMIDITY) as HUMIDITY, AVG(WIND_SPEED) as WIND_SPEED, AVG(VISIBILITY) as VISIBILITY,\n",
    "AVG(DEW_POINT_TEMPERATURE)as DEW_POINT_TEMPERATURE, AVG(SOLAR_RADIATION) as SOLAR_RADIATION, \n",
    "AVG(RAINFALL)as RAINFALL, AVG(SNOWFALL)as SNOWFALL\n",
    "FROM seoul_bike_sharing\n",
    "GROUP by SEASONS\n",
    "ORDER BY rented_bike_count DESC;\"\n",
    "view <- sqlQuery(conn,query)\n",
    "view"
   ]
  },
  {
   "cell_type": "markdown",
   "metadata": {},
   "source": [
    "## Task 10 - Total Bike Count and City Info for Seoul\n",
    "#### Use an implicit join across the WORLD_CITIES and the BIKE_SHARING_SYSTEMS tables to determine the total number of bikes avaialble in Seoul, plus the following city information about Seoul: CITY, COUNTRY, LAT, LON, POPULATION, in a single view.\n",
    "Notice that in this case, the CITY column will work for the WORLD_CITIES table, but in general you would have to use the CITY_ASCII column.\n"
   ]
  },
  {
   "cell_type": "markdown",
   "metadata": {},
   "source": [
    "### Solution 10\n"
   ]
  },
  {
   "cell_type": "code",
   "execution_count": 19,
   "metadata": {},
   "outputs": [
    {
     "data": {
      "text/html": [
       "<table>\n",
       "<caption>A data.frame: 1 × 6</caption>\n",
       "<thead>\n",
       "\t<tr><th></th><th scope=col>CITY_ASCII</th><th scope=col>COUNTRY</th><th scope=col>LAT</th><th scope=col>LNG</th><th scope=col>POPULATION</th><th scope=col>BICYCLES</th></tr>\n",
       "\t<tr><th></th><th scope=col>&lt;fct&gt;</th><th scope=col>&lt;fct&gt;</th><th scope=col>&lt;dbl&gt;</th><th scope=col>&lt;dbl&gt;</th><th scope=col>&lt;int&gt;</th><th scope=col>&lt;int&gt;</th></tr>\n",
       "</thead>\n",
       "<tbody>\n",
       "\t<tr><th scope=row>1</th><td>Seoul</td><td>Korea, South</td><td>37.58</td><td>127</td><td>21794000</td><td>20000</td></tr>\n",
       "</tbody>\n",
       "</table>\n"
      ],
      "text/latex": [
       "A data.frame: 1 × 6\n",
       "\\begin{tabular}{r|llllll}\n",
       "  & CITY\\_ASCII & COUNTRY & LAT & LNG & POPULATION & BICYCLES\\\\\n",
       "  & <fct> & <fct> & <dbl> & <dbl> & <int> & <int>\\\\\n",
       "\\hline\n",
       "\t1 & Seoul & Korea, South & 37.58 & 127 & 21794000 & 20000\\\\\n",
       "\\end{tabular}\n"
      ],
      "text/markdown": [
       "\n",
       "A data.frame: 1 × 6\n",
       "\n",
       "| <!--/--> | CITY_ASCII &lt;fct&gt; | COUNTRY &lt;fct&gt; | LAT &lt;dbl&gt; | LNG &lt;dbl&gt; | POPULATION &lt;int&gt; | BICYCLES &lt;int&gt; |\n",
       "|---|---|---|---|---|---|---|\n",
       "| 1 | Seoul | Korea, South | 37.58 | 127 | 21794000 | 20000 |\n",
       "\n"
      ],
      "text/plain": [
       "  CITY_ASCII COUNTRY      LAT   LNG POPULATION BICYCLES\n",
       "1 Seoul      Korea, South 37.58 127 21794000   20000   "
      ]
     },
     "metadata": {},
     "output_type": "display_data"
    }
   ],
   "source": [
    "# provide your solution here\n",
    "query=\"SELECT A.CITY_ASCII, A.COUNTRY, A.LAT, A.LNG, A.POPULATION, B.BICYCLES\n",
    "FROM world_cities A, bike_sharing_systems B\n",
    "WHERE (A.CITY_ASCII= B.CITY) AND (A.CITY_ASCII = 'Seoul');\"\n",
    "view <- sqlQuery(conn,query)\n",
    "view"
   ]
  },
  {
   "cell_type": "markdown",
   "metadata": {},
   "source": [
    "## Task 11 - Find all city names and coordinates with comparable bike scale to Seoul's bike sharing system\n",
    "#### Find all cities with total bike counts between 15000 and 20000. Return the city and country names, plus the coordinates (LAT, LNG), population, and number of bicycles for each city.\n",
    "Later we will ask you to visualize these similar cities on leaflet, with some weather data.\n"
   ]
  },
  {
   "cell_type": "markdown",
   "metadata": {},
   "source": [
    "### Solution 11\n"
   ]
  },
  {
   "cell_type": "code",
   "execution_count": 20,
   "metadata": {},
   "outputs": [
    {
     "data": {
      "text/html": [
       "<table>\n",
       "<caption>A data.frame: 42 × 6</caption>\n",
       "<thead>\n",
       "\t<tr><th></th><th scope=col>CITY_ASCII</th><th scope=col>COUNTRY</th><th scope=col>LAT</th><th scope=col>LNG</th><th scope=col>POPULATION</th><th scope=col>BICYCLES</th></tr>\n",
       "\t<tr><th></th><th scope=col>&lt;fct&gt;</th><th scope=col>&lt;fct&gt;</th><th scope=col>&lt;dbl&gt;</th><th scope=col>&lt;dbl&gt;</th><th scope=col>&lt;int&gt;</th><th scope=col>&lt;int&gt;</th></tr>\n",
       "</thead>\n",
       "<tbody>\n",
       "\t<tr><th scope=row>1</th><td>Shanghai  </td><td>China        </td><td> 31.16</td><td> 121.46</td><td>22120000</td><td>19165</td></tr>\n",
       "\t<tr><th scope=row>2</th><td>Seoul     </td><td>Korea, South </td><td> 37.58</td><td> 127.00</td><td>21794000</td><td>20000</td></tr>\n",
       "\t<tr><th scope=row>3</th><td>Beijing   </td><td>China        </td><td> 39.90</td><td> 116.39</td><td>19433000</td><td>16000</td></tr>\n",
       "\t<tr><th scope=row>4</th><td>Weifang   </td><td>China        </td><td> 36.71</td><td> 119.10</td><td> 9373000</td><td>20000</td></tr>\n",
       "\t<tr><th scope=row>5</th><td>Heze      </td><td>China        </td><td> 35.23</td><td> 115.43</td><td> 8750000</td><td> 2000</td></tr>\n",
       "\t<tr><th scope=row>6</th><td>Ningbo    </td><td>China        </td><td> 29.87</td><td> 121.54</td><td> 7639000</td><td>15000</td></tr>\n",
       "\t<tr><th scope=row>7</th><td>Xi'an     </td><td>China        </td><td> 34.26</td><td> 108.90</td><td> 7135000</td><td>20000</td></tr>\n",
       "\t<tr><th scope=row>8</th><td>Sydney    </td><td>Australia    </td><td>-33.86</td><td> 151.20</td><td> 5312163</td><td> 2000</td></tr>\n",
       "\t<tr><th scope=row>9</th><td>Zhuzhou   </td><td>China        </td><td> 27.84</td><td> 113.14</td><td> 3855609</td><td>20000</td></tr>\n",
       "\t<tr><th scope=row>10</th><td>Lanzhou   </td><td>China        </td><td> 36.06</td><td> 103.83</td><td> 3616163</td><td> 2000</td></tr>\n",
       "\t<tr><th scope=row>11</th><td>Madrid    </td><td>Spain        </td><td> 40.41</td><td>  -3.69</td><td> 3266126</td><td> 1580</td></tr>\n",
       "\t<tr><th scope=row>12</th><td>San Diego </td><td>United States</td><td> 32.83</td><td>-117.12</td><td> 3220118</td><td> 1800</td></tr>\n",
       "\t<tr><th scope=row>13</th><td>Zhenjiang </td><td>China        </td><td> 32.21</td><td> 119.45</td><td> 3113384</td><td> 2000</td></tr>\n",
       "\t<tr><th scope=row>14</th><td>Rome      </td><td>Italy        </td><td> 41.89</td><td>  12.48</td><td> 2872800</td><td>  200</td></tr>\n",
       "\t<tr><th scope=row>15</th><td>Brisbane  </td><td>Australia    </td><td>-27.46</td><td> 153.02</td><td> 2514184</td><td> 2000</td></tr>\n",
       "\t<tr><th scope=row>16</th><td>Almaty    </td><td>Kazakhstan   </td><td> 43.25</td><td>  76.90</td><td> 1806833</td><td> 1700</td></tr>\n",
       "\t<tr><th scope=row>17</th><td>Budapest  </td><td>Hungary      </td><td> 47.49</td><td>  19.04</td><td> 1752286</td><td> 1526</td></tr>\n",
       "\t<tr><th scope=row>18</th><td>Austin    </td><td>United States</td><td> 30.30</td><td> -97.75</td><td> 1687311</td><td>  200</td></tr>\n",
       "\t<tr><th scope=row>19</th><td>Copenhagen</td><td>Denmark      </td><td> 55.67</td><td>  12.56</td><td> 1085000</td><td> 1860</td></tr>\n",
       "\t<tr><th scope=row>20</th><td>Shymkent  </td><td>Kazakhstan   </td><td> 42.30</td><td>  69.60</td><td> 1018974</td><td>  200</td></tr>\n",
       "\t<tr><th scope=row>21</th><td>Nice      </td><td>France       </td><td> 43.70</td><td>   7.26</td><td> 1006402</td><td> 1750</td></tr>\n",
       "\t<tr><th scope=row>22</th><td>Tirana    </td><td>Albania      </td><td> 41.33</td><td>  19.82</td><td>  418495</td><td>  200</td></tr>\n",
       "\t<tr><th scope=row>23</th><td>Changhua  </td><td>Taiwan       </td><td> 24.06</td><td> 120.53</td><td>  750000</td><td> 1695</td></tr>\n",
       "\t<tr><th scope=row>24</th><td>Rouen     </td><td>France       </td><td> 49.44</td><td>   1.08</td><td>  494382</td><td>  190</td></tr>\n",
       "\t<tr><th scope=row>25</th><td>Strasbourg</td><td>France       </td><td> 48.58</td><td>   7.74</td><td>  465069</td><td> 1852</td></tr>\n",
       "\t<tr><th scope=row>26</th><td>Ostrava   </td><td>Czechia      </td><td> 49.83</td><td>  18.29</td><td>  287968</td><td>  180</td></tr>\n",
       "\t<tr><th scope=row>27</th><td>Bordeaux  </td><td>France       </td><td> 44.84</td><td>  -0.58</td><td>  257804</td><td> 1545</td></tr>\n",
       "\t<tr><th scope=row>28</th><td>Limassol  </td><td>Cyprus       </td><td> 34.67</td><td>  33.04</td><td>  235056</td><td>  170</td></tr>\n",
       "\t<tr><th scope=row>29</th><td>San Diego </td><td>Venezuela    </td><td> 10.25</td><td> -67.95</td><td>  187215</td><td> 1800</td></tr>\n",
       "\t<tr><th scope=row>30</th><td>Trondheim </td><td>Norway       </td><td> 63.44</td><td>  10.40</td><td>  183378</td><td>  200</td></tr>\n",
       "\t<tr><th scope=row>31</th><td>Santander </td><td>Spain        </td><td> 43.46</td><td>  -3.80</td><td>  172539</td><td>  180</td></tr>\n",
       "\t<tr><th scope=row>32</th><td>Opole     </td><td>Poland       </td><td> 50.67</td><td>  17.92</td><td>  127792</td><td>  164</td></tr>\n",
       "\t<tr><th scope=row>33</th><td>Belfort   </td><td>France       </td><td> 47.64</td><td>   6.85</td><td>  114445</td><td>  200</td></tr>\n",
       "\t<tr><th scope=row>34</th><td>Namur     </td><td>Belgium      </td><td> 50.46</td><td>   4.86</td><td>  110939</td><td>  200</td></tr>\n",
       "\t<tr><th scope=row>35</th><td>Calais    </td><td>France       </td><td> 50.94</td><td>   1.85</td><td>   73911</td><td>  160</td></tr>\n",
       "\t<tr><th scope=row>36</th><td>Avignon   </td><td>France       </td><td> 43.95</td><td>   4.80</td><td>   93671</td><td>  200</td></tr>\n",
       "\t<tr><th scope=row>37</th><td>Pisa      </td><td>Italy        </td><td> 43.71</td><td>  10.40</td><td>   89745</td><td>  200</td></tr>\n",
       "\t<tr><th scope=row>38</th><td>Rome      </td><td>United States</td><td> 34.26</td><td> -85.18</td><td>   61537</td><td>  200</td></tr>\n",
       "\t<tr><th scope=row>39</th><td>Vannes    </td><td>France       </td><td> 47.65</td><td>  -2.76</td><td>   53352</td><td>  174</td></tr>\n",
       "\t<tr><th scope=row>40</th><td>Rome      </td><td>United States</td><td> 43.22</td><td> -75.49</td><td>   31863</td><td>  200</td></tr>\n",
       "\t<tr><th scope=row>41</th><td>Austin    </td><td>United States</td><td> 43.67</td><td> -92.97</td><td>   25626</td><td>  200</td></tr>\n",
       "\t<tr><th scope=row>42</th><td>Dunkirk   </td><td>United States</td><td> 42.48</td><td> -79.33</td><td>   23874</td><td>  200</td></tr>\n",
       "</tbody>\n",
       "</table>\n"
      ],
      "text/latex": [
       "A data.frame: 42 × 6\n",
       "\\begin{tabular}{r|llllll}\n",
       "  & CITY\\_ASCII & COUNTRY & LAT & LNG & POPULATION & BICYCLES\\\\\n",
       "  & <fct> & <fct> & <dbl> & <dbl> & <int> & <int>\\\\\n",
       "\\hline\n",
       "\t1 & Shanghai   & China         &  31.16 &  121.46 & 22120000 & 19165\\\\\n",
       "\t2 & Seoul      & Korea, South  &  37.58 &  127.00 & 21794000 & 20000\\\\\n",
       "\t3 & Beijing    & China         &  39.90 &  116.39 & 19433000 & 16000\\\\\n",
       "\t4 & Weifang    & China         &  36.71 &  119.10 &  9373000 & 20000\\\\\n",
       "\t5 & Heze       & China         &  35.23 &  115.43 &  8750000 &  2000\\\\\n",
       "\t6 & Ningbo     & China         &  29.87 &  121.54 &  7639000 & 15000\\\\\n",
       "\t7 & Xi'an      & China         &  34.26 &  108.90 &  7135000 & 20000\\\\\n",
       "\t8 & Sydney     & Australia     & -33.86 &  151.20 &  5312163 &  2000\\\\\n",
       "\t9 & Zhuzhou    & China         &  27.84 &  113.14 &  3855609 & 20000\\\\\n",
       "\t10 & Lanzhou    & China         &  36.06 &  103.83 &  3616163 &  2000\\\\\n",
       "\t11 & Madrid     & Spain         &  40.41 &   -3.69 &  3266126 &  1580\\\\\n",
       "\t12 & San Diego  & United States &  32.83 & -117.12 &  3220118 &  1800\\\\\n",
       "\t13 & Zhenjiang  & China         &  32.21 &  119.45 &  3113384 &  2000\\\\\n",
       "\t14 & Rome       & Italy         &  41.89 &   12.48 &  2872800 &   200\\\\\n",
       "\t15 & Brisbane   & Australia     & -27.46 &  153.02 &  2514184 &  2000\\\\\n",
       "\t16 & Almaty     & Kazakhstan    &  43.25 &   76.90 &  1806833 &  1700\\\\\n",
       "\t17 & Budapest   & Hungary       &  47.49 &   19.04 &  1752286 &  1526\\\\\n",
       "\t18 & Austin     & United States &  30.30 &  -97.75 &  1687311 &   200\\\\\n",
       "\t19 & Copenhagen & Denmark       &  55.67 &   12.56 &  1085000 &  1860\\\\\n",
       "\t20 & Shymkent   & Kazakhstan    &  42.30 &   69.60 &  1018974 &   200\\\\\n",
       "\t21 & Nice       & France        &  43.70 &    7.26 &  1006402 &  1750\\\\\n",
       "\t22 & Tirana     & Albania       &  41.33 &   19.82 &   418495 &   200\\\\\n",
       "\t23 & Changhua   & Taiwan        &  24.06 &  120.53 &   750000 &  1695\\\\\n",
       "\t24 & Rouen      & France        &  49.44 &    1.08 &   494382 &   190\\\\\n",
       "\t25 & Strasbourg & France        &  48.58 &    7.74 &   465069 &  1852\\\\\n",
       "\t26 & Ostrava    & Czechia       &  49.83 &   18.29 &   287968 &   180\\\\\n",
       "\t27 & Bordeaux   & France        &  44.84 &   -0.58 &   257804 &  1545\\\\\n",
       "\t28 & Limassol   & Cyprus        &  34.67 &   33.04 &   235056 &   170\\\\\n",
       "\t29 & San Diego  & Venezuela     &  10.25 &  -67.95 &   187215 &  1800\\\\\n",
       "\t30 & Trondheim  & Norway        &  63.44 &   10.40 &   183378 &   200\\\\\n",
       "\t31 & Santander  & Spain         &  43.46 &   -3.80 &   172539 &   180\\\\\n",
       "\t32 & Opole      & Poland        &  50.67 &   17.92 &   127792 &   164\\\\\n",
       "\t33 & Belfort    & France        &  47.64 &    6.85 &   114445 &   200\\\\\n",
       "\t34 & Namur      & Belgium       &  50.46 &    4.86 &   110939 &   200\\\\\n",
       "\t35 & Calais     & France        &  50.94 &    1.85 &    73911 &   160\\\\\n",
       "\t36 & Avignon    & France        &  43.95 &    4.80 &    93671 &   200\\\\\n",
       "\t37 & Pisa       & Italy         &  43.71 &   10.40 &    89745 &   200\\\\\n",
       "\t38 & Rome       & United States &  34.26 &  -85.18 &    61537 &   200\\\\\n",
       "\t39 & Vannes     & France        &  47.65 &   -2.76 &    53352 &   174\\\\\n",
       "\t40 & Rome       & United States &  43.22 &  -75.49 &    31863 &   200\\\\\n",
       "\t41 & Austin     & United States &  43.67 &  -92.97 &    25626 &   200\\\\\n",
       "\t42 & Dunkirk    & United States &  42.48 &  -79.33 &    23874 &   200\\\\\n",
       "\\end{tabular}\n"
      ],
      "text/markdown": [
       "\n",
       "A data.frame: 42 × 6\n",
       "\n",
       "| <!--/--> | CITY_ASCII &lt;fct&gt; | COUNTRY &lt;fct&gt; | LAT &lt;dbl&gt; | LNG &lt;dbl&gt; | POPULATION &lt;int&gt; | BICYCLES &lt;int&gt; |\n",
       "|---|---|---|---|---|---|---|\n",
       "| 1 | Shanghai   | China         |  31.16 |  121.46 | 22120000 | 19165 |\n",
       "| 2 | Seoul      | Korea, South  |  37.58 |  127.00 | 21794000 | 20000 |\n",
       "| 3 | Beijing    | China         |  39.90 |  116.39 | 19433000 | 16000 |\n",
       "| 4 | Weifang    | China         |  36.71 |  119.10 |  9373000 | 20000 |\n",
       "| 5 | Heze       | China         |  35.23 |  115.43 |  8750000 |  2000 |\n",
       "| 6 | Ningbo     | China         |  29.87 |  121.54 |  7639000 | 15000 |\n",
       "| 7 | Xi'an      | China         |  34.26 |  108.90 |  7135000 | 20000 |\n",
       "| 8 | Sydney     | Australia     | -33.86 |  151.20 |  5312163 |  2000 |\n",
       "| 9 | Zhuzhou    | China         |  27.84 |  113.14 |  3855609 | 20000 |\n",
       "| 10 | Lanzhou    | China         |  36.06 |  103.83 |  3616163 |  2000 |\n",
       "| 11 | Madrid     | Spain         |  40.41 |   -3.69 |  3266126 |  1580 |\n",
       "| 12 | San Diego  | United States |  32.83 | -117.12 |  3220118 |  1800 |\n",
       "| 13 | Zhenjiang  | China         |  32.21 |  119.45 |  3113384 |  2000 |\n",
       "| 14 | Rome       | Italy         |  41.89 |   12.48 |  2872800 |   200 |\n",
       "| 15 | Brisbane   | Australia     | -27.46 |  153.02 |  2514184 |  2000 |\n",
       "| 16 | Almaty     | Kazakhstan    |  43.25 |   76.90 |  1806833 |  1700 |\n",
       "| 17 | Budapest   | Hungary       |  47.49 |   19.04 |  1752286 |  1526 |\n",
       "| 18 | Austin     | United States |  30.30 |  -97.75 |  1687311 |   200 |\n",
       "| 19 | Copenhagen | Denmark       |  55.67 |   12.56 |  1085000 |  1860 |\n",
       "| 20 | Shymkent   | Kazakhstan    |  42.30 |   69.60 |  1018974 |   200 |\n",
       "| 21 | Nice       | France        |  43.70 |    7.26 |  1006402 |  1750 |\n",
       "| 22 | Tirana     | Albania       |  41.33 |   19.82 |   418495 |   200 |\n",
       "| 23 | Changhua   | Taiwan        |  24.06 |  120.53 |   750000 |  1695 |\n",
       "| 24 | Rouen      | France        |  49.44 |    1.08 |   494382 |   190 |\n",
       "| 25 | Strasbourg | France        |  48.58 |    7.74 |   465069 |  1852 |\n",
       "| 26 | Ostrava    | Czechia       |  49.83 |   18.29 |   287968 |   180 |\n",
       "| 27 | Bordeaux   | France        |  44.84 |   -0.58 |   257804 |  1545 |\n",
       "| 28 | Limassol   | Cyprus        |  34.67 |   33.04 |   235056 |   170 |\n",
       "| 29 | San Diego  | Venezuela     |  10.25 |  -67.95 |   187215 |  1800 |\n",
       "| 30 | Trondheim  | Norway        |  63.44 |   10.40 |   183378 |   200 |\n",
       "| 31 | Santander  | Spain         |  43.46 |   -3.80 |   172539 |   180 |\n",
       "| 32 | Opole      | Poland        |  50.67 |   17.92 |   127792 |   164 |\n",
       "| 33 | Belfort    | France        |  47.64 |    6.85 |   114445 |   200 |\n",
       "| 34 | Namur      | Belgium       |  50.46 |    4.86 |   110939 |   200 |\n",
       "| 35 | Calais     | France        |  50.94 |    1.85 |    73911 |   160 |\n",
       "| 36 | Avignon    | France        |  43.95 |    4.80 |    93671 |   200 |\n",
       "| 37 | Pisa       | Italy         |  43.71 |   10.40 |    89745 |   200 |\n",
       "| 38 | Rome       | United States |  34.26 |  -85.18 |    61537 |   200 |\n",
       "| 39 | Vannes     | France        |  47.65 |   -2.76 |    53352 |   174 |\n",
       "| 40 | Rome       | United States |  43.22 |  -75.49 |    31863 |   200 |\n",
       "| 41 | Austin     | United States |  43.67 |  -92.97 |    25626 |   200 |\n",
       "| 42 | Dunkirk    | United States |  42.48 |  -79.33 |    23874 |   200 |\n",
       "\n"
      ],
      "text/plain": [
       "   CITY_ASCII COUNTRY       LAT    LNG     POPULATION BICYCLES\n",
       "1  Shanghai   China          31.16  121.46 22120000   19165   \n",
       "2  Seoul      Korea, South   37.58  127.00 21794000   20000   \n",
       "3  Beijing    China          39.90  116.39 19433000   16000   \n",
       "4  Weifang    China          36.71  119.10  9373000   20000   \n",
       "5  Heze       China          35.23  115.43  8750000    2000   \n",
       "6  Ningbo     China          29.87  121.54  7639000   15000   \n",
       "7  Xi'an      China          34.26  108.90  7135000   20000   \n",
       "8  Sydney     Australia     -33.86  151.20  5312163    2000   \n",
       "9  Zhuzhou    China          27.84  113.14  3855609   20000   \n",
       "10 Lanzhou    China          36.06  103.83  3616163    2000   \n",
       "11 Madrid     Spain          40.41   -3.69  3266126    1580   \n",
       "12 San Diego  United States  32.83 -117.12  3220118    1800   \n",
       "13 Zhenjiang  China          32.21  119.45  3113384    2000   \n",
       "14 Rome       Italy          41.89   12.48  2872800     200   \n",
       "15 Brisbane   Australia     -27.46  153.02  2514184    2000   \n",
       "16 Almaty     Kazakhstan     43.25   76.90  1806833    1700   \n",
       "17 Budapest   Hungary        47.49   19.04  1752286    1526   \n",
       "18 Austin     United States  30.30  -97.75  1687311     200   \n",
       "19 Copenhagen Denmark        55.67   12.56  1085000    1860   \n",
       "20 Shymkent   Kazakhstan     42.30   69.60  1018974     200   \n",
       "21 Nice       France         43.70    7.26  1006402    1750   \n",
       "22 Tirana     Albania        41.33   19.82   418495     200   \n",
       "23 Changhua   Taiwan         24.06  120.53   750000    1695   \n",
       "24 Rouen      France         49.44    1.08   494382     190   \n",
       "25 Strasbourg France         48.58    7.74   465069    1852   \n",
       "26 Ostrava    Czechia        49.83   18.29   287968     180   \n",
       "27 Bordeaux   France         44.84   -0.58   257804    1545   \n",
       "28 Limassol   Cyprus         34.67   33.04   235056     170   \n",
       "29 San Diego  Venezuela      10.25  -67.95   187215    1800   \n",
       "30 Trondheim  Norway         63.44   10.40   183378     200   \n",
       "31 Santander  Spain          43.46   -3.80   172539     180   \n",
       "32 Opole      Poland         50.67   17.92   127792     164   \n",
       "33 Belfort    France         47.64    6.85   114445     200   \n",
       "34 Namur      Belgium        50.46    4.86   110939     200   \n",
       "35 Calais     France         50.94    1.85    73911     160   \n",
       "36 Avignon    France         43.95    4.80    93671     200   \n",
       "37 Pisa       Italy          43.71   10.40    89745     200   \n",
       "38 Rome       United States  34.26  -85.18    61537     200   \n",
       "39 Vannes     France         47.65   -2.76    53352     174   \n",
       "40 Rome       United States  43.22  -75.49    31863     200   \n",
       "41 Austin     United States  43.67  -92.97    25626     200   \n",
       "42 Dunkirk    United States  42.48  -79.33    23874     200   "
      ]
     },
     "metadata": {},
     "output_type": "display_data"
    }
   ],
   "source": [
    "# provide your solution here\n",
    "query=\"SELECT A.CITY_ASCII, A.COUNTRY, A.LAT, A.LNG, A.POPULATION, B.BICYCLES\n",
    "FROM world_cities A, bike_sharing_systems B\n",
    "WHERE (A.CITY_ASCII= B.CITY) AND (B.BICYCLES BETWEEN '15000' AND '20000');\"\n",
    "view <- sqlQuery(conn,query)\n",
    "view"
   ]
  },
  {
   "cell_type": "code",
   "execution_count": 21,
   "metadata": {},
   "outputs": [],
   "source": [
    "close(conn)"
   ]
  },
  {
   "cell_type": "markdown",
   "metadata": {},
   "source": [
    "## Author(s)\n",
    "\n",
    "<h4> Jeff Grossman </h4>\n",
    "\n",
    "## Contributor(s)\n",
    "\n",
    "<h4> Yan Luo, Rav Ahuja </h4>\n",
    "\n",
    "## Change log\n",
    "\n",
    "| Date       | Version | Changed by    | Change Description                                                                |\n",
    "| ---------- | ------- | ------------- | --------------------------------------------------------------------------------- |\n",
    "| 2021-05-04 | 0.2     | Jeff Grossman | Finalize                               |\n",
    "| 2021-04-22 | 0.2     | Jeff Grossman | Update as per peer review                               |\n",
    "| 2021-04-10 | 0.2     | Jeff Grossman | Add data sources and implicit joins                                  |\n",
    "| 2021-04-05 | 0.1     | Jeff Grossman | Start content creation                                                          |\n",
    "\n",
    "\n",
    "## <h3 align=\"center\"> © IBM Corporation 2021. All rights reserved. <h3/>\n"
   ]
  },
  {
   "cell_type": "code",
   "execution_count": null,
   "metadata": {},
   "outputs": [],
   "source": []
  },
  {
   "cell_type": "code",
   "execution_count": null,
   "metadata": {},
   "outputs": [],
   "source": []
  }
 ],
 "metadata": {
  "kernelspec": {
   "display_name": "R",
   "language": "R",
   "name": "conda-env-r-r"
  },
  "language_info": {
   "codemirror_mode": "r",
   "file_extension": ".r",
   "mimetype": "text/x-r-source",
   "name": "R",
   "pygments_lexer": "r",
   "version": "3.5.1"
  }
 },
 "nbformat": 4,
 "nbformat_minor": 4
}
