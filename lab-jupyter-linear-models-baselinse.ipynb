{
 "cells": [
  {
   "cell_type": "markdown",
   "metadata": {},
   "source": [
    "<center>\n",
    "<img src=\"https://cf-courses-data.s3.us.cloud-object-storage.appdomain.cloud/IBMDeveloperSkillsNetwork-RP0321EN-SkillsNetwork/labs/module_1/images/SN_web_lightmode.png\" width=\"300\"> \n",
    "</center>\n"
   ]
  },
  {
   "cell_type": "markdown",
   "metadata": {},
   "source": [
    "<h1>Predict Hourly Rented Bike Count using Basic Linear Regression Models</h1>\n",
    "\n",
    "Estimated time needed: **90** minutes\n"
   ]
  },
  {
   "cell_type": "markdown",
   "metadata": {},
   "source": [
    "## Lab Overview:\n",
    "\n",
    "Now that you have performed exploratory analysis on the bike sharing demand dataset and obtained some insights on the attributes, it's time to build predictive models to predict the hourly rented bike count using related weather and date information.\n",
    "\n",
    "In this lab, you will be asked to use `tidymodels` to build some baseline linear regression models:\n",
    "- **TASK: Split data into training and testing datasets**\n",
    "- **TASK: Build a linear regression model using only the weather variables**\n",
    "- **TASK: Build a linear regression model using both weather and date variables**\n",
    "- **TASK: Evaluate the models and identify important variables**\n",
    "\n",
    "Let's start!\n"
   ]
  },
  {
   "cell_type": "markdown",
   "metadata": {},
   "source": [
    "First install and import the necessary libraries\n"
   ]
  },
  {
   "cell_type": "code",
   "execution_count": null,
   "metadata": {},
   "outputs": [
    {
     "name": "stderr",
     "output_type": "stream",
     "text": [
      "Updating HTML index of packages in '.Library'\n",
      "Making 'packages.html' ... done\n",
      "also installing the dependencies ‘clock’, ‘slider’, ‘modelenv’, ‘broom’, ‘dials’, ‘dplyr’, ‘hardhat’, ‘infer’, ‘parsnip’, ‘recipes’, ‘rsample’, ‘tibble’, ‘tidyr’, ‘tune’, ‘workflows’, ‘workflowsets’, ‘yardstick’\n",
      "\n"
     ]
    }
   ],
   "source": [
    "# It may take several inutes to install those libraries in Watson Studio\n",
    "install.packages('rlang')\n",
    "install.packages('tidymodels')"
   ]
  },
  {
   "cell_type": "code",
   "execution_count": 95,
   "metadata": {},
   "outputs": [],
   "source": [
    "library(tidymodels)\n",
    "library(tidyverse)\n",
    "library(stringr)"
   ]
  },
  {
   "cell_type": "markdown",
   "metadata": {},
   "source": [
    "The `seoul_bike_sharing_converted_normalized.csv` will be our main dataset which has following variables:\n",
    "\n",
    "The response variable:\n",
    "- `RENTED BIKE COUNT`- Count of bikes rented at each hour\n",
    "\n",
    "Weather predictor variables:\n",
    "- `TEMPERATURE` - Temperature in Celsius\n",
    "- `HUMIDITY` - Unit is `%`\n",
    "- `WIND_SPEED` - Unit is `m/s`\n",
    "- `VISIBILITY` - Multiplied by 10m\n",
    "- `DEW_POINT_TEMPERATURE` - The temperature to which the air would have to cool down in order to reach saturation, unit is Celsius\n",
    "- `SOLAR_RADIATION` - MJ/m2\n",
    "- `RAINFALL` - mm\n",
    "- `SNOWFALL` - cm\n",
    "\n",
    "Date/time predictor variables:\n",
    "- `DATE` - Year-month-day\n",
    "- `HOUR`- Hour of he day\n",
    "- `FUNCTIONAL DAY` - NoFunc(Non Functional Hours), Fun(Functional hours)\n",
    "- `HOLIDAY` - Holiday/No holiday\n",
    "- `SEASONS` - Winter, Spring, Summer, Autumn\n"
   ]
  },
  {
   "cell_type": "markdown",
   "metadata": {},
   "source": [
    "Let's read the dataset as a dataframe first:\n"
   ]
  },
  {
   "cell_type": "code",
   "execution_count": 96,
   "metadata": {},
   "outputs": [
    {
     "data": {
      "text/plain": [
       "cols(\n",
       "  DATE = col_character(),\n",
       "  RENTED_BIKE_COUNT = col_double(),\n",
       "  TEMPERATURE = col_double(),\n",
       "  HUMIDITY = col_double(),\n",
       "  WIND_SPEED = col_double(),\n",
       "  VISIBILITY = col_double(),\n",
       "  DEW_POINT_TEMPERATURE = col_double(),\n",
       "  SOLAR_RADIATION = col_double(),\n",
       "  RAINFALL = col_double(),\n",
       "  SNOWFALL = col_double(),\n",
       "  FUNCTIONING_DAY = col_character(),\n",
       "  `0` = col_double(),\n",
       "  `1` = col_double(),\n",
       "  `10` = col_double(),\n",
       "  `11` = col_double(),\n",
       "  `12` = col_double(),\n",
       "  `13` = col_double(),\n",
       "  `14` = col_double(),\n",
       "  `15` = col_double(),\n",
       "  `16` = col_double(),\n",
       "  `17` = col_double(),\n",
       "  `18` = col_double(),\n",
       "  `19` = col_double(),\n",
       "  `2` = col_double(),\n",
       "  `20` = col_double(),\n",
       "  `21` = col_double(),\n",
       "  `22` = col_double(),\n",
       "  `23` = col_double(),\n",
       "  `3` = col_double(),\n",
       "  `4` = col_double(),\n",
       "  `5` = col_double(),\n",
       "  `6` = col_double(),\n",
       "  `7` = col_double(),\n",
       "  `8` = col_double(),\n",
       "  `9` = col_double(),\n",
       "  AUTUMN = col_double(),\n",
       "  SPRING = col_double(),\n",
       "  SUMMER = col_double(),\n",
       "  WINTER = col_double(),\n",
       "  HOLIDAY = col_double(),\n",
       "  NO_HOLIDAY = col_double()\n",
       ")"
      ]
     },
     "metadata": {},
     "output_type": "display_data"
    }
   ],
   "source": [
    "# Dataset URL\n",
    "dataset_url <- \"https://cf-courses-data.s3.us.cloud-object-storage.appdomain.cloud/IBMDeveloperSkillsNetwork-RP0321EN-SkillsNetwork/labs/datasets/seoul_bike_sharing_converted_normalized.csv\"\n",
    "bike_sharing_df <- read_csv(dataset_url,\n",
    "                     col_types = cols('RENTED_BIKE_COUNT' = col_double()))\n",
    "spec(bike_sharing_df)"
   ]
  },
  {
   "cell_type": "markdown",
   "metadata": {},
   "source": [
    "We won't be using the `DATE` column, because 'as is', it basically acts like an data entry index. (However, given more time, we could use the `DATE` colum to create a 'day of week' or 'isWeekend' column, which we might expect has an affect on preferred bike rental times.) We also do not need the `FUNCTIONAL DAY` column because it only has one distinct value remaining (`YES`) after missing value processing.\n"
   ]
  },
  {
   "cell_type": "code",
   "execution_count": 97,
   "metadata": {},
   "outputs": [],
   "source": [
    "bike_sharing_df <- bike_sharing_df %>% \n",
    "                   select(-DATE, -FUNCTIONING_DAY)"
   ]
  },
  {
   "cell_type": "markdown",
   "metadata": {},
   "source": [
    "# TASK: Split training and testing data\n"
   ]
  },
  {
   "cell_type": "markdown",
   "metadata": {},
   "source": [
    "First, we need to split the full dataset into training and testing datasets.\n",
    "\n",
    "The training dataset will be used for fitting regression models, and the testing dataset will be used to evaluate the trained models.\n"
   ]
  },
  {
   "cell_type": "markdown",
   "metadata": {},
   "source": [
    "_TODO:_ Use the `initial_split()`, `training()`, and `testing()` functions to generate a training dataset consisting of 75% of the original dataset, and a testing dataset using the remaining 25%. \n"
   ]
  },
  {
   "cell_type": "code",
   "execution_count": 98,
   "metadata": {},
   "outputs": [],
   "source": [
    "# Use the `initial_split()`, `training()`, and `testing()` functions to split the dataset\n",
    "# With seed 1234\n",
    "set.seed(1234)\n",
    "prop = 3/4\n",
    "Bike_split <- initial_split(bike_sharing_df,prop=prop)\n",
    "# train_data \n",
    "train_data <- training(Bike_split)\n",
    "# test_data\n",
    "test_data <- testing(Bike_split)"
   ]
  },
  {
   "cell_type": "markdown",
   "metadata": {},
   "source": [
    "# TASK: Build a linear regression model using weather variables only\n"
   ]
  },
  {
   "cell_type": "markdown",
   "metadata": {},
   "source": [
    "As you could imagine, weather conditions may affect people's bike renting decisions. For example, on a cold and rainy day, you may choose alternate transportation such as a bus or taxi.  While on a nice sunny day, you may want to rent a bike for a short-distance travel.\n"
   ]
  },
  {
   "cell_type": "markdown",
   "metadata": {},
   "source": [
    "Thus, can we predict a city's bike-sharing demand based on its local weather information? Let's try to build a regression model to do that.\n"
   ]
  },
  {
   "cell_type": "markdown",
   "metadata": {},
   "source": [
    "_TODO:_ Build a linear regression model called `lm_model_weather` using the following variables:\n",
    "\n",
    "- `TEMPERATURE` - Temperature in Celsius\n",
    "- `HUMIDITY` - Unit is `%`\n",
    "- `WIND_SPEED` - Unit is `m/s`\n",
    "- `VISIBILITY` - Multiplied by 10m\n",
    "- `DEW_POINT_TEMPERATURE` - The temperature to which the air would have to cool down in order to reach saturation, unit is Celsius\n",
    "- `SOLAR_RADIATION` - MJ/m2\n",
    "- `RAINFALL` - mm\n",
    "- `SNOWFALL` - cm\n"
   ]
  },
  {
   "cell_type": "markdown",
   "metadata": {},
   "source": [
    "Define a linear regression model specification.\n"
   ]
  },
  {
   "cell_type": "code",
   "execution_count": 99,
   "metadata": {},
   "outputs": [],
   "source": [
    "# Use `linear_reg()` with engine `lm` and mode `regression`\n",
    "lm_spec <- linear_reg() %>%\n",
    "  set_engine(\"lm\")"
   ]
  },
  {
   "cell_type": "markdown",
   "metadata": {},
   "source": [
    "Fit a model with the response variable `RENTED_BIKE_COUNT` and predictor variables `TEMPERATURE + HUMIDITY + WIND_SPEED + VISIBILITY + DEW_POINT_TEMPERATURE + SOLAR_RADIATION + RAINFALL + SNOWFALL`\n"
   ]
  },
  {
   "cell_type": "code",
   "execution_count": 100,
   "metadata": {},
   "outputs": [],
   "source": [
    "# Fit the model called `lm_model_weather`\n",
    "# RENTED_BIKE_COUNT ~ TEMPERATURE + HUMIDITY + WIND_SPEED + VISIBILITY + DEW_POINT_TEMPERATURE + SOLAR_RADIATION + RAINFALL + SNOWFALL,  with the training data\n",
    "lm_model_weather<-lm(RENTED_BIKE_COUNT ~ TEMPERATURE + HUMIDITY + WIND_SPEED + VISIBILITY + DEW_POINT_TEMPERATURE + SOLAR_RADIATION + RAINFALL \n",
    "+ SNOWFALL, data = train_data) "
   ]
  },
  {
   "cell_type": "markdown",
   "metadata": {},
   "source": [
    "Print the fit summary for the `lm_model_weather` model.\n"
   ]
  },
  {
   "cell_type": "code",
   "execution_count": 101,
   "metadata": {},
   "outputs": [
    {
     "data": {
      "text/plain": [
       "\n",
       "Call:\n",
       "lm(formula = RENTED_BIKE_COUNT ~ TEMPERATURE + HUMIDITY + WIND_SPEED + \n",
       "    VISIBILITY + DEW_POINT_TEMPERATURE + SOLAR_RADIATION + RAINFALL + \n",
       "    SNOWFALL, data = train_data)\n",
       "\n",
       "Residuals:\n",
       "     Min       1Q   Median       3Q      Max \n",
       "-1344.44  -300.48   -58.56   208.27  2332.53 \n",
       "\n",
       "Coefficients:\n",
       "                       Estimate Std. Error t value Pr(>|t|)    \n",
       "(Intercept)             147.647     57.417   2.571  0.01015 *  \n",
       "TEMPERATURE            2452.112    259.315   9.456  < 2e-16 ***\n",
       "HUMIDITY               -895.830    124.925  -7.171 8.29e-13 ***\n",
       "WIND_SPEED              402.183     48.218   8.341  < 2e-16 ***\n",
       "VISIBILITY                5.356     24.908   0.215  0.82975    \n",
       "DEW_POINT_TEMPERATURE  -368.982    275.535  -1.339  0.18057    \n",
       "SOLAR_RADIATION        -435.703     35.071 -12.423  < 2e-16 ***\n",
       "RAINFALL              -1771.467    184.470  -9.603  < 2e-16 ***\n",
       "SNOWFALL                354.761    133.992   2.648  0.00813 ** \n",
       "---\n",
       "Signif. codes:  0 ‘***’ 0.001 ‘**’ 0.01 ‘*’ 0.05 ‘.’ 0.1 ‘ ’ 1\n",
       "\n",
       "Residual standard error: 488.6 on 6340 degrees of freedom\n",
       "Multiple R-squared:  0.4281,\tAdjusted R-squared:  0.4274 \n",
       "F-statistic: 593.2 on 8 and 6340 DF,  p-value: < 2.2e-16\n"
      ]
     },
     "metadata": {},
     "output_type": "display_data"
    }
   ],
   "source": [
    "summary(lm_model_weather)"
   ]
  },
  {
   "cell_type": "markdown",
   "metadata": {},
   "source": [
    "You should see the model details such as formula, residuals, and coefficients.\n"
   ]
  },
  {
   "cell_type": "markdown",
   "metadata": {},
   "source": [
    "# TASK: Build a linear regression model using all variables\n"
   ]
  },
  {
   "cell_type": "markdown",
   "metadata": {},
   "source": [
    "In addition to weather, there could be other factors that may affect bike rental demand, such as the time of a day or if today is a holiday or not.\n"
   ]
  },
  {
   "cell_type": "markdown",
   "metadata": {},
   "source": [
    "Next, let's build a linear regression model using all variables (weather + date/time) in this task.\n"
   ]
  },
  {
   "cell_type": "markdown",
   "metadata": {},
   "source": [
    "_TODO:_ Build a linear regression model called `lm_model_all` using all variables `RENTED_BIKE_COUNT ~ .`\n"
   ]
  },
  {
   "cell_type": "code",
   "execution_count": 102,
   "metadata": {},
   "outputs": [],
   "source": [
    "# Fit the model called `lm_model_all`\n",
    "# `RENTED_BIKE_COUNT ~ .` means use all other variables except for the response variable\n",
    "lm_model_all <- lm(RENTED_BIKE_COUNT ~ . , data = train_data)"
   ]
  },
  {
   "cell_type": "markdown",
   "metadata": {},
   "source": [
    "Print the fit summary for `lm_model_all`.\n"
   ]
  },
  {
   "cell_type": "code",
   "execution_count": 103,
   "metadata": {},
   "outputs": [
    {
     "data": {
      "text/plain": [
       "\n",
       "Call:\n",
       "lm(formula = RENTED_BIKE_COUNT ~ ., data = train_data)\n",
       "\n",
       "Residuals:\n",
       "     Min       1Q   Median       3Q      Max \n",
       "-1390.19  -220.95    -9.08   202.68  1774.61 \n",
       "\n",
       "Coefficients: (3 not defined because of singularities)\n",
       "                       Estimate Std. Error t value Pr(>|t|)    \n",
       "(Intercept)             216.584     50.673   4.274 1.95e-05 ***\n",
       "TEMPERATURE             810.604    209.034   3.878 0.000106 ***\n",
       "HUMIDITY               -920.587     97.243  -9.467  < 2e-16 ***\n",
       "WIND_SPEED               -9.313     40.268  -0.231 0.817101    \n",
       "VISIBILITY               24.368     20.235   1.204 0.228533    \n",
       "DEW_POINT_TEMPERATURE   632.384    217.478   2.908 0.003652 ** \n",
       "SOLAR_RADIATION         249.752     41.347   6.040 1.62e-09 ***\n",
       "RAINFALL              -1982.940    143.642 -13.805  < 2e-16 ***\n",
       "SNOWFALL                232.451    104.609   2.222 0.026312 *  \n",
       "`0`                     -12.500     34.010  -0.368 0.713234    \n",
       "`1`                    -125.701     34.579  -3.635 0.000280 ***\n",
       "`10`                   -222.233     33.316  -6.671 2.76e-11 ***\n",
       "`11`                   -231.428     33.981  -6.811 1.06e-11 ***\n",
       "`12`                   -194.605     34.559  -5.631 1.87e-08 ***\n",
       "`13`                   -189.528     35.199  -5.385 7.53e-08 ***\n",
       "`14`                   -183.060     35.246  -5.194 2.12e-07 ***\n",
       "`15`                   -103.127     35.096  -2.938 0.003311 ** \n",
       "`16`                     43.598     34.230   1.274 0.202829    \n",
       "`17`                    306.732     34.272   8.950  < 2e-16 ***\n",
       "`18`                    782.842     34.512  22.683  < 2e-16 ***\n",
       "`19`                    519.456     34.541  15.039  < 2e-16 ***\n",
       "`2`                    -259.946     34.575  -7.518 6.32e-14 ***\n",
       "`20`                    394.635     34.729  11.363  < 2e-16 ***\n",
       "`21`                    430.185     34.337  12.528  < 2e-16 ***\n",
       "`22`                    322.664     33.935   9.508  < 2e-16 ***\n",
       "`23`                     90.181     33.974   2.654 0.007965 ** \n",
       "`3`                    -327.245     33.890  -9.656  < 2e-16 ***\n",
       "`4`                    -389.558     34.033 -11.447  < 2e-16 ***\n",
       "`5`                    -379.055     33.818 -11.209  < 2e-16 ***\n",
       "`6`                    -216.689     34.166  -6.342 2.42e-10 ***\n",
       "`7`                     110.492     33.930   3.256 0.001134 ** \n",
       "`8`                     502.354     33.506  14.993  < 2e-16 ***\n",
       "`9`                          NA         NA      NA       NA    \n",
       "AUTUMN                  357.978     19.997  17.902  < 2e-16 ***\n",
       "SPRING                  194.421     19.218  10.117  < 2e-16 ***\n",
       "SUMMER                  172.901     29.043   5.953 2.77e-09 ***\n",
       "WINTER                       NA         NA      NA       NA    \n",
       "HOLIDAY                -129.167     22.447  -5.754 9.11e-09 ***\n",
       "NO_HOLIDAY                   NA         NA      NA       NA    \n",
       "---\n",
       "Signif. codes:  0 ‘***’ 0.001 ‘**’ 0.01 ‘*’ 0.05 ‘.’ 0.1 ‘ ’ 1\n",
       "\n",
       "Residual standard error: 376.4 on 6313 degrees of freedom\n",
       "Multiple R-squared:  0.6622,\tAdjusted R-squared:  0.6603 \n",
       "F-statistic: 353.5 on 35 and 6313 DF,  p-value: < 2.2e-16\n"
      ]
     },
     "metadata": {},
     "output_type": "display_data"
    }
   ],
   "source": [
    "summary(lm_model_all)"
   ]
  },
  {
   "cell_type": "markdown",
   "metadata": {},
   "source": [
    "Now you have built two basic linear regression models with different predictor variables, let's evaluate which model has better performance,\n"
   ]
  },
  {
   "cell_type": "markdown",
   "metadata": {},
   "source": [
    "# TASK: Model evaluation and identification of important variables\n"
   ]
  },
  {
   "cell_type": "markdown",
   "metadata": {},
   "source": [
    "Now that you have built two regression models, `lm_model_weather` and `lm_model_all`, with different predictor variables, you need to compare their performance to see which one is better.\n"
   ]
  },
  {
   "cell_type": "markdown",
   "metadata": {},
   "source": [
    "In this project, you will be asked to use very important metrics that are often used in Statistics to determine the performance of a model:\n",
    "\n",
    "1.  R^2 / R-squared \n",
    "2.  Root Mean Squared Error (RMSE)\n",
    "\n",
    "**R-squared**\n",
    "\n",
    "<p>R squared, also known as the coefficient of determination, is a measure to indicate how close the data is to the fitted regression line. The value of R-squared is the percentage of variation of the response variable (y) that is explained by a linear model.</p>\n",
    "\n",
    "**Root Mean Squared Error (RMSE)**\n",
    "$$\n",
    "RMSE = \\sqrt{MSE}\n",
    "$$\n",
    "\n",
    "As you know, the Mean Squared Error measures the average of the squares of errors, where 'error' is the difference between the actual value ($y$) and the estimated value ($ŷ$). \n",
    "Another metric that is related to MSE is **Root Mean Squared Error (RMSE)** and is simply the square root of MSE.\n"
   ]
  },
  {
   "cell_type": "markdown",
   "metadata": {},
   "source": [
    "We first need to test the `lm_model_weather` and `lm_model_all` models against the test dataset `test_data`, and generate `RENTED_BIKE_COUNT` prediction results.\n"
   ]
  },
  {
   "cell_type": "markdown",
   "metadata": {},
   "source": [
    "_TODO:_ Make predictions on the testing dataset using both `lm_model_weather` and `lm_model_all` models\n"
   ]
  },
  {
   "cell_type": "code",
   "execution_count": 124,
   "metadata": {},
   "outputs": [
    {
     "data": {
      "text/html": [
       "<table>\n",
       "<caption>A tibble: 1 × 3</caption>\n",
       "<thead>\n",
       "\t<tr><th scope=col>.metric</th><th scope=col>.estimator</th><th scope=col>.estimate</th></tr>\n",
       "\t<tr><th scope=col>&lt;chr&gt;</th><th scope=col>&lt;chr&gt;</th><th scope=col>&lt;dbl&gt;</th></tr>\n",
       "</thead>\n",
       "<tbody>\n",
       "\t<tr><td>rmse</td><td>standard</td><td>468.3085</td></tr>\n",
       "</tbody>\n",
       "</table>\n"
      ],
      "text/latex": [
       "A tibble: 1 × 3\n",
       "\\begin{tabular}{lll}\n",
       " .metric & .estimator & .estimate\\\\\n",
       " <chr> & <chr> & <dbl>\\\\\n",
       "\\hline\n",
       "\t rmse & standard & 468.3085\\\\\n",
       "\\end{tabular}\n"
      ],
      "text/markdown": [
       "\n",
       "A tibble: 1 × 3\n",
       "\n",
       "| .metric &lt;chr&gt; | .estimator &lt;chr&gt; | .estimate &lt;dbl&gt; |\n",
       "|---|---|---|\n",
       "| rmse | standard | 468.3085 |\n",
       "\n"
      ],
      "text/plain": [
       "  .metric .estimator .estimate\n",
       "1 rmse    standard   468.3085 "
      ]
     },
     "metadata": {},
     "output_type": "display_data"
    }
   ],
   "source": [
    "K<-lm(RENTED_BIKE_COUNT ~ TEMPERATURE + HUMIDITY + WIND_SPEED + VISIBILITY + DEW_POINT_TEMPERATURE + SOLAR_RADIATION + RAINFALL \n",
    "+ SNOWFALL, data = test_data) \n",
    "AZ <- K %>%\n",
    "  predict(new_data = test_data)\n",
    "g <- as.data.frame(AZ)\n",
    "g$truth<- test_data$RENTED_BIKE_COUNT\n",
    "rmse(g, truth = truth, estimate = AZ)"
   ]
  },
  {
   "cell_type": "code",
   "execution_count": 104,
   "metadata": {},
   "outputs": [],
   "source": [
    "# Use predict() function to generate test results for `lm_model_weather` and `lm_model_all`\n",
    "# and generate two test results dataframe with a truth column:\n",
    "# test_results_weather for lm_model_weather model\n",
    "test_results_weather <- lm_model_weather %>%\n",
    "  predict(new_data = train_data)\n",
    "df_test_results_weather <- as.data.frame(test_results_weather)\n",
    "df_test_results_weather$truth<- train_data$RENTED_BIKE_COUNT\n",
    "# test_results_all for lm_model_all\n",
    "test_results_all <- lm_model_all %>%\n",
    "  predict(new_data = test_data)\n",
    "df_test_results_all<- as.data.frame(test_results_all)\n",
    "df_test_results_all$truth<- train_data$RENTED_BIKE_COUNT"
   ]
  },
  {
   "cell_type": "markdown",
   "metadata": {},
   "source": [
    "NOTE: if you happen to see a warning like : `prediction from a rank-deficient fit may be misleading`, it may be casued by collinearity in the predictor variables. Collinearity means that one predictor variable can be predicted from other predictor variables to some degree. For example, `RAINFALL` could be predicted by `HUMIDITY`.\n",
    "\n",
    "But dont worry, you will address `glmnet` models (Lasso and Elastic-Net Regularized Generalized Linear Models) instead of regular `regression` models to solve this issue and futher improve the model performance.\n"
   ]
  },
  {
   "cell_type": "markdown",
   "metadata": {},
   "source": [
    "Next, let's calculate and print the R-squared and RMSE for the two test results\n"
   ]
  },
  {
   "cell_type": "markdown",
   "metadata": {},
   "source": [
    "_TODO:_ Use `rsq()` and `rmse()` functions to calculate R-squared and RMSE metrics for the two test results\n"
   ]
  },
  {
   "cell_type": "code",
   "execution_count": 140,
   "metadata": {},
   "outputs": [
    {
     "data": {
      "text/html": [
       "<table>\n",
       "<caption>A tibble: 1 × 3</caption>\n",
       "<thead>\n",
       "\t<tr><th scope=col>.metric</th><th scope=col>.estimator</th><th scope=col>.estimate</th></tr>\n",
       "\t<tr><th scope=col>&lt;chr&gt;</th><th scope=col>&lt;chr&gt;</th><th scope=col>&lt;dbl&gt;</th></tr>\n",
       "</thead>\n",
       "<tbody>\n",
       "\t<tr><td>rsq</td><td>standard</td><td>0.4280951</td></tr>\n",
       "</tbody>\n",
       "</table>\n"
      ],
      "text/latex": [
       "A tibble: 1 × 3\n",
       "\\begin{tabular}{lll}\n",
       " .metric & .estimator & .estimate\\\\\n",
       " <chr> & <chr> & <dbl>\\\\\n",
       "\\hline\n",
       "\t rsq & standard & 0.4280951\\\\\n",
       "\\end{tabular}\n"
      ],
      "text/markdown": [
       "\n",
       "A tibble: 1 × 3\n",
       "\n",
       "| .metric &lt;chr&gt; | .estimator &lt;chr&gt; | .estimate &lt;dbl&gt; |\n",
       "|---|---|---|\n",
       "| rsq | standard | 0.4280951 |\n",
       "\n"
      ],
      "text/plain": [
       "  .metric .estimator .estimate\n",
       "1 rsq     standard   0.4280951"
      ]
     },
     "metadata": {},
     "output_type": "display_data"
    },
    {
     "data": {
      "text/html": [
       "<table>\n",
       "<caption>A tibble: 1 × 3</caption>\n",
       "<thead>\n",
       "\t<tr><th scope=col>.metric</th><th scope=col>.estimator</th><th scope=col>.estimate</th></tr>\n",
       "\t<tr><th scope=col>&lt;chr&gt;</th><th scope=col>&lt;chr&gt;</th><th scope=col>&lt;dbl&gt;</th></tr>\n",
       "</thead>\n",
       "<tbody>\n",
       "\t<tr><td>rsq</td><td>standard</td><td>0.6621546</td></tr>\n",
       "</tbody>\n",
       "</table>\n"
      ],
      "text/latex": [
       "A tibble: 1 × 3\n",
       "\\begin{tabular}{lll}\n",
       " .metric & .estimator & .estimate\\\\\n",
       " <chr> & <chr> & <dbl>\\\\\n",
       "\\hline\n",
       "\t rsq & standard & 0.6621546\\\\\n",
       "\\end{tabular}\n"
      ],
      "text/markdown": [
       "\n",
       "A tibble: 1 × 3\n",
       "\n",
       "| .metric &lt;chr&gt; | .estimator &lt;chr&gt; | .estimate &lt;dbl&gt; |\n",
       "|---|---|---|\n",
       "| rsq | standard | 0.6621546 |\n",
       "\n"
      ],
      "text/plain": [
       "  .metric .estimator .estimate\n",
       "1 rsq     standard   0.6621546"
      ]
     },
     "metadata": {},
     "output_type": "display_data"
    },
    {
     "data": {
      "text/html": [
       "<table>\n",
       "<caption>A tibble: 1 × 3</caption>\n",
       "<thead>\n",
       "\t<tr><th scope=col>.metric</th><th scope=col>.estimator</th><th scope=col>.estimate</th></tr>\n",
       "\t<tr><th scope=col>&lt;chr&gt;</th><th scope=col>&lt;chr&gt;</th><th scope=col>&lt;dbl&gt;</th></tr>\n",
       "</thead>\n",
       "<tbody>\n",
       "\t<tr><td>rmse</td><td>standard</td><td>488.3005</td></tr>\n",
       "</tbody>\n",
       "</table>\n"
      ],
      "text/latex": [
       "A tibble: 1 × 3\n",
       "\\begin{tabular}{lll}\n",
       " .metric & .estimator & .estimate\\\\\n",
       " <chr> & <chr> & <dbl>\\\\\n",
       "\\hline\n",
       "\t rmse & standard & 488.3005\\\\\n",
       "\\end{tabular}\n"
      ],
      "text/markdown": [
       "\n",
       "A tibble: 1 × 3\n",
       "\n",
       "| .metric &lt;chr&gt; | .estimator &lt;chr&gt; | .estimate &lt;dbl&gt; |\n",
       "|---|---|---|\n",
       "| rmse | standard | 488.3005 |\n",
       "\n"
      ],
      "text/plain": [
       "  .metric .estimator .estimate\n",
       "1 rmse    standard   488.3005 "
      ]
     },
     "metadata": {},
     "output_type": "display_data"
    },
    {
     "data": {
      "text/html": [
       "<table>\n",
       "<caption>A tibble: 1 × 3</caption>\n",
       "<thead>\n",
       "\t<tr><th scope=col>.metric</th><th scope=col>.estimator</th><th scope=col>.estimate</th></tr>\n",
       "\t<tr><th scope=col>&lt;chr&gt;</th><th scope=col>&lt;chr&gt;</th><th scope=col>&lt;dbl&gt;</th></tr>\n",
       "</thead>\n",
       "<tbody>\n",
       "\t<tr><td>rmse</td><td>standard</td><td>375.305</td></tr>\n",
       "</tbody>\n",
       "</table>\n"
      ],
      "text/latex": [
       "A tibble: 1 × 3\n",
       "\\begin{tabular}{lll}\n",
       " .metric & .estimator & .estimate\\\\\n",
       " <chr> & <chr> & <dbl>\\\\\n",
       "\\hline\n",
       "\t rmse & standard & 375.305\\\\\n",
       "\\end{tabular}\n"
      ],
      "text/markdown": [
       "\n",
       "A tibble: 1 × 3\n",
       "\n",
       "| .metric &lt;chr&gt; | .estimator &lt;chr&gt; | .estimate &lt;dbl&gt; |\n",
       "|---|---|---|\n",
       "| rmse | standard | 375.305 |\n",
       "\n"
      ],
      "text/plain": [
       "  .metric .estimator .estimate\n",
       "1 rmse    standard   375.305  "
      ]
     },
     "metadata": {},
     "output_type": "display_data"
    }
   ],
   "source": [
    "# rsq_weather <- rsq(...)\n",
    "rsq_weather <-rsq(df_test_results_weather, truth = truth, estimate = test_results_weather)\n",
    "# rsq_all <- rsq(...)\n",
    "rsq_all <-rsq(df_test_results_all, truth = truth, estimate = test_results_all)\n",
    "# rmse_weather <- rmse(...)\n",
    "rmse_weather <-rmse(df_test_results_weather, truth = truth, estimate = test_results_weather)\n",
    "# rmse_all <- rmse(...)\n",
    "rmse_all <-rmse(df_test_results_all, truth = truth, estimate = test_results_all)\n",
    "rsq_weather\n",
    "rsq_all\n",
    "rmse_weather\n",
    "rmse_all"
   ]
  },
  {
   "cell_type": "code",
   "execution_count": 139,
   "metadata": {},
   "outputs": [
    {
     "data": {
      "text/html": [
       "238437.41693496"
      ],
      "text/latex": [
       "238437.41693496"
      ],
      "text/markdown": [
       "238437.41693496"
      ],
      "text/plain": [
       "[1] 238437.4"
      ]
     },
     "metadata": {},
     "output_type": "display_data"
    },
    {
     "data": {
      "text/html": [
       "488.300539560382"
      ],
      "text/latex": [
       "488.300539560382"
      ],
      "text/markdown": [
       "488.300539560382"
      ],
      "text/plain": [
       "[1] 488.3005"
      ]
     },
     "metadata": {},
     "output_type": "display_data"
    },
    {
     "data": {
      "text/html": [
       "140853.816870401"
      ],
      "text/latex": [
       "140853.816870401"
      ],
      "text/markdown": [
       "140853.816870401"
      ],
      "text/plain": [
       "[1] 140853.8"
      ]
     },
     "metadata": {},
     "output_type": "display_data"
    },
    {
     "data": {
      "text/html": [
       "375.304965155539"
      ],
      "text/latex": [
       "375.304965155539"
      ],
      "text/markdown": [
       "375.304965155539"
      ],
      "text/plain": [
       "[1] 375.305"
      ]
     },
     "metadata": {},
     "output_type": "display_data"
    },
    {
     "data": {
      "text/html": [
       "0.428095144504415"
      ],
      "text/latex": [
       "0.428095144504415"
      ],
      "text/markdown": [
       "0.428095144504415"
      ],
      "text/plain": [
       "[1] 0.4280951"
      ]
     },
     "metadata": {},
     "output_type": "display_data"
    }
   ],
   "source": [
    "mse_weather <- mean(lm_model_weather$residuals^2)\n",
    "mse_weather\n",
    "rmse_weather <- sqrt(mse_weather)\n",
    "rmse_weather\n",
    "mse_all <- mean(lm_model_all$residuals^2)\n",
    "mse_all\n",
    "rmse_all <- sqrt(mse_all)\n",
    "rmse_all\n",
    "summary(lm_model_weather)$r.squared"
   ]
  },
  {
   "cell_type": "markdown",
   "metadata": {},
   "source": [
    "From these tables, you should find that the test results from `lm_model_all` are much better. It means that using both weather and datetime variables in the model generates better prediction results.\n"
   ]
  },
  {
   "cell_type": "markdown",
   "metadata": {},
   "source": [
    "Since `lm_model_all` has many predictor variables, let's check which predictor variables have larger coefficients. Variables with larger coefficients in the model means they attribute more in the prediction of `RENTED_BIKE_COUNT`. In addition, since all predictor variables are normalized to the same scale, 0 to 1, we thus can compare their coefficients directly.\n"
   ]
  },
  {
   "cell_type": "markdown",
   "metadata": {},
   "source": [
    "You could try building another regression model using the non-normalized `seoul_bike_sharing_converted.csv` dataset, and you would find that the coefficients are much different.\n"
   ]
  },
  {
   "cell_type": "markdown",
   "metadata": {},
   "source": [
    "First let's print all coefficients:\n"
   ]
  },
  {
   "cell_type": "code",
   "execution_count": 141,
   "metadata": {},
   "outputs": [
    {
     "data": {
      "text/html": [
       "<ol>\n",
       "\t<li><style>\n",
       ".dl-inline {width: auto; margin:0; padding: 0}\n",
       ".dl-inline>dt, .dl-inline>dd {float: none; width: auto; display: inline-block}\n",
       ".dl-inline>dt::after {content: \":\\0020\"; padding-right: .5ex}\n",
       ".dl-inline>dt:not(:first-of-type) {padding-left: .5ex}\n",
       "</style><dl class=dl-inline><dt>(Intercept)</dt><dd>216.584058520425</dd><dt>TEMPERATURE</dt><dd>810.603986705408</dd><dt>HUMIDITY</dt><dd>920.586909252077</dd><dt>WIND_SPEED</dt><dd>9.31331872226891</dd><dt>VISIBILITY</dt><dd>24.3680486652167</dd><dt>DEW_POINT_TEMPERATURE</dt><dd>632.384298001056</dd><dt>SOLAR_RADIATION</dt><dd>249.752454216444</dd><dt>RAINFALL</dt><dd>1982.94042307599</dd><dt>SNOWFALL</dt><dd>232.450789844669</dd><dt>`0`</dt><dd>12.4998037292523</dd><dt>`1`</dt><dd>125.701499472983</dd><dt>`10`</dt><dd>222.233261805256</dd><dt>`11`</dt><dd>231.428410797234</dd><dt>`12`</dt><dd>194.605041418871</dd><dt>`13`</dt><dd>189.528425634735</dd><dt>`14`</dt><dd>183.060291143358</dd><dt>`15`</dt><dd>103.126884840928</dd><dt>`16`</dt><dd>43.597895314446</dd><dt>`17`</dt><dd>306.732435423589</dd><dt>`18`</dt><dd>782.84150725653</dd><dt>`19`</dt><dd>519.455508376907</dd><dt>`2`</dt><dd>259.946174337005</dd><dt>`20`</dt><dd>394.634675841615</dd><dt>`21`</dt><dd>430.185214830003</dd><dt>`22`</dt><dd>322.663948586527</dd><dt>`23`</dt><dd>90.1808026195376</dd><dt>`3`</dt><dd>327.244954867547</dd><dt>`4`</dt><dd>389.558392056447</dd><dt>`5`</dt><dd>379.055208923381</dd><dt>`6`</dt><dd>216.689105145966</dd><dt>`7`</dt><dd>110.491958873144</dd><dt>`8`</dt><dd>502.353807713109</dd><dt>`9`</dt><dd>&lt;NA&gt;</dd><dt>AUTUMN</dt><dd>357.978264973985</dd><dt>SPRING</dt><dd>194.421437093438</dd><dt>SUMMER</dt><dd>172.901302381773</dd><dt>WINTER</dt><dd>&lt;NA&gt;</dd><dt>HOLIDAY</dt><dd>129.167077549417</dd><dt>NO_HOLIDAY</dt><dd>&lt;NA&gt;</dd></dl>\n",
       "</li>\n",
       "</ol>\n"
      ],
      "text/latex": [
       "\\begin{enumerate}\n",
       "\\item \\begin{description*}\n",
       "\\item[(Intercept)] 216.584058520425\n",
       "\\item[TEMPERATURE] 810.603986705408\n",
       "\\item[HUMIDITY] 920.586909252077\n",
       "\\item[WIND\\textbackslash{}\\_SPEED] 9.31331872226891\n",
       "\\item[VISIBILITY] 24.3680486652167\n",
       "\\item[DEW\\textbackslash{}\\_POINT\\textbackslash{}\\_TEMPERATURE] 632.384298001056\n",
       "\\item[SOLAR\\textbackslash{}\\_RADIATION] 249.752454216444\n",
       "\\item[RAINFALL] 1982.94042307599\n",
       "\\item[SNOWFALL] 232.450789844669\n",
       "\\item[`0`] 12.4998037292523\n",
       "\\item[`1`] 125.701499472983\n",
       "\\item[`10`] 222.233261805256\n",
       "\\item[`11`] 231.428410797234\n",
       "\\item[`12`] 194.605041418871\n",
       "\\item[`13`] 189.528425634735\n",
       "\\item[`14`] 183.060291143358\n",
       "\\item[`15`] 103.126884840928\n",
       "\\item[`16`] 43.597895314446\n",
       "\\item[`17`] 306.732435423589\n",
       "\\item[`18`] 782.84150725653\n",
       "\\item[`19`] 519.455508376907\n",
       "\\item[`2`] 259.946174337005\n",
       "\\item[`20`] 394.634675841615\n",
       "\\item[`21`] 430.185214830003\n",
       "\\item[`22`] 322.663948586527\n",
       "\\item[`23`] 90.1808026195376\n",
       "\\item[`3`] 327.244954867547\n",
       "\\item[`4`] 389.558392056447\n",
       "\\item[`5`] 379.055208923381\n",
       "\\item[`6`] 216.689105145966\n",
       "\\item[`7`] 110.491958873144\n",
       "\\item[`8`] 502.353807713109\n",
       "\\item[`9`] <NA>\n",
       "\\item[AUTUMN] 357.978264973985\n",
       "\\item[SPRING] 194.421437093438\n",
       "\\item[SUMMER] 172.901302381773\n",
       "\\item[WINTER] <NA>\n",
       "\\item[HOLIDAY] 129.167077549417\n",
       "\\item[NO\\textbackslash{}\\_HOLIDAY] <NA>\n",
       "\\end{description*}\n",
       "\n",
       "\\end{enumerate}\n"
      ],
      "text/markdown": [
       "1. (Intercept)\n",
       ":   216.584058520425TEMPERATURE\n",
       ":   810.603986705408HUMIDITY\n",
       ":   920.586909252077WIND_SPEED\n",
       ":   9.31331872226891VISIBILITY\n",
       ":   24.3680486652167DEW_POINT_TEMPERATURE\n",
       ":   632.384298001056SOLAR_RADIATION\n",
       ":   249.752454216444RAINFALL\n",
       ":   1982.94042307599SNOWFALL\n",
       ":   232.450789844669`0`\n",
       ":   12.4998037292523`1`\n",
       ":   125.701499472983`10`\n",
       ":   222.233261805256`11`\n",
       ":   231.428410797234`12`\n",
       ":   194.605041418871`13`\n",
       ":   189.528425634735`14`\n",
       ":   183.060291143358`15`\n",
       ":   103.126884840928`16`\n",
       ":   43.597895314446`17`\n",
       ":   306.732435423589`18`\n",
       ":   782.84150725653`19`\n",
       ":   519.455508376907`2`\n",
       ":   259.946174337005`20`\n",
       ":   394.634675841615`21`\n",
       ":   430.185214830003`22`\n",
       ":   322.663948586527`23`\n",
       ":   90.1808026195376`3`\n",
       ":   327.244954867547`4`\n",
       ":   389.558392056447`5`\n",
       ":   379.055208923381`6`\n",
       ":   216.689105145966`7`\n",
       ":   110.491958873144`8`\n",
       ":   502.353807713109`9`\n",
       ":   &lt;NA&gt;AUTUMN\n",
       ":   357.978264973985SPRING\n",
       ":   194.421437093438SUMMER\n",
       ":   172.901302381773WINTER\n",
       ":   &lt;NA&gt;HOLIDAY\n",
       ":   129.167077549417NO_HOLIDAY\n",
       ":   &lt;NA&gt;\n",
       "\n",
       "\n",
       "\n",
       "\n"
      ],
      "text/plain": [
       "[[1]]\n",
       "          (Intercept)           TEMPERATURE              HUMIDITY \n",
       "           216.584059            810.603987            920.586909 \n",
       "           WIND_SPEED            VISIBILITY DEW_POINT_TEMPERATURE \n",
       "             9.313319             24.368049            632.384298 \n",
       "      SOLAR_RADIATION              RAINFALL              SNOWFALL \n",
       "           249.752454           1982.940423            232.450790 \n",
       "                  `0`                   `1`                  `10` \n",
       "            12.499804            125.701499            222.233262 \n",
       "                 `11`                  `12`                  `13` \n",
       "           231.428411            194.605041            189.528426 \n",
       "                 `14`                  `15`                  `16` \n",
       "           183.060291            103.126885             43.597895 \n",
       "                 `17`                  `18`                  `19` \n",
       "           306.732435            782.841507            519.455508 \n",
       "                  `2`                  `20`                  `21` \n",
       "           259.946174            394.634676            430.185215 \n",
       "                 `22`                  `23`                   `3` \n",
       "           322.663949             90.180803            327.244955 \n",
       "                  `4`                   `5`                   `6` \n",
       "           389.558392            379.055209            216.689105 \n",
       "                  `7`                   `8`                   `9` \n",
       "           110.491959            502.353808                    NA \n",
       "               AUTUMN                SPRING                SUMMER \n",
       "           357.978265            194.421437            172.901302 \n",
       "               WINTER               HOLIDAY            NO_HOLIDAY \n",
       "                   NA            129.167078                    NA \n"
      ]
     },
     "metadata": {},
     "output_type": "display_data"
    }
   ],
   "source": [
    "A <- list(abs(lm_model_all$coefficients))\n",
    "A"
   ]
  },
  {
   "cell_type": "markdown",
   "metadata": {},
   "source": [
    "hmm, it's not very clear to compare the coefficients from a long and unsorted list. Next, you need to sort and visualize them using a bar chart\n"
   ]
  },
  {
   "cell_type": "markdown",
   "metadata": {},
   "source": [
    "_TODO:_ Sort the coefficient list in descending order and visualize the result using `ggplot` and `geom_bar` \n"
   ]
  },
  {
   "cell_type": "code",
   "execution_count": 142,
   "metadata": {},
   "outputs": [
    {
     "data": {
      "text/html": [
       "<ol>\n",
       "\t<li><style>\n",
       ".dl-inline {width: auto; margin:0; padding: 0}\n",
       ".dl-inline>dt, .dl-inline>dd {float: none; width: auto; display: inline-block}\n",
       ".dl-inline>dt::after {content: \":\\0020\"; padding-right: .5ex}\n",
       ".dl-inline>dt:not(:first-of-type) {padding-left: .5ex}\n",
       "</style><dl class=dl-inline><dt>RAINFALL</dt><dd>1982.94042307599</dd><dt>HUMIDITY</dt><dd>920.586909252077</dd><dt>TEMPERATURE</dt><dd>810.603986705408</dd><dt>`18`</dt><dd>782.84150725653</dd><dt>DEW_POINT_TEMPERATURE</dt><dd>632.384298001056</dd><dt>`19`</dt><dd>519.455508376907</dd><dt>`8`</dt><dd>502.353807713109</dd><dt>`21`</dt><dd>430.185214830003</dd><dt>`20`</dt><dd>394.634675841615</dd><dt>`4`</dt><dd>389.558392056447</dd><dt>`5`</dt><dd>379.055208923381</dd><dt>AUTUMN</dt><dd>357.978264973985</dd><dt>`3`</dt><dd>327.244954867547</dd><dt>`22`</dt><dd>322.663948586527</dd><dt>`17`</dt><dd>306.732435423589</dd><dt>`2`</dt><dd>259.946174337005</dd><dt>SOLAR_RADIATION</dt><dd>249.752454216444</dd><dt>SNOWFALL</dt><dd>232.450789844669</dd><dt>`11`</dt><dd>231.428410797234</dd><dt>`10`</dt><dd>222.233261805256</dd><dt>`6`</dt><dd>216.689105145966</dd><dt>(Intercept)</dt><dd>216.584058520425</dd><dt>`12`</dt><dd>194.605041418871</dd><dt>SPRING</dt><dd>194.421437093438</dd><dt>`13`</dt><dd>189.528425634735</dd><dt>`14`</dt><dd>183.060291143358</dd><dt>SUMMER</dt><dd>172.901302381773</dd><dt>HOLIDAY</dt><dd>129.167077549417</dd><dt>`1`</dt><dd>125.701499472983</dd><dt>`7`</dt><dd>110.491958873144</dd><dt>`15`</dt><dd>103.126884840928</dd><dt>`23`</dt><dd>90.1808026195376</dd><dt>`16`</dt><dd>43.597895314446</dd><dt>VISIBILITY</dt><dd>24.3680486652167</dd><dt>`0`</dt><dd>12.4998037292523</dd><dt>WIND_SPEED</dt><dd>9.31331872226891</dd></dl>\n",
       "</li>\n",
       "</ol>\n"
      ],
      "text/latex": [
       "\\begin{enumerate}\n",
       "\\item \\begin{description*}\n",
       "\\item[RAINFALL] 1982.94042307599\n",
       "\\item[HUMIDITY] 920.586909252077\n",
       "\\item[TEMPERATURE] 810.603986705408\n",
       "\\item[`18`] 782.84150725653\n",
       "\\item[DEW\\textbackslash{}\\_POINT\\textbackslash{}\\_TEMPERATURE] 632.384298001056\n",
       "\\item[`19`] 519.455508376907\n",
       "\\item[`8`] 502.353807713109\n",
       "\\item[`21`] 430.185214830003\n",
       "\\item[`20`] 394.634675841615\n",
       "\\item[`4`] 389.558392056447\n",
       "\\item[`5`] 379.055208923381\n",
       "\\item[AUTUMN] 357.978264973985\n",
       "\\item[`3`] 327.244954867547\n",
       "\\item[`22`] 322.663948586527\n",
       "\\item[`17`] 306.732435423589\n",
       "\\item[`2`] 259.946174337005\n",
       "\\item[SOLAR\\textbackslash{}\\_RADIATION] 249.752454216444\n",
       "\\item[SNOWFALL] 232.450789844669\n",
       "\\item[`11`] 231.428410797234\n",
       "\\item[`10`] 222.233261805256\n",
       "\\item[`6`] 216.689105145966\n",
       "\\item[(Intercept)] 216.584058520425\n",
       "\\item[`12`] 194.605041418871\n",
       "\\item[SPRING] 194.421437093438\n",
       "\\item[`13`] 189.528425634735\n",
       "\\item[`14`] 183.060291143358\n",
       "\\item[SUMMER] 172.901302381773\n",
       "\\item[HOLIDAY] 129.167077549417\n",
       "\\item[`1`] 125.701499472983\n",
       "\\item[`7`] 110.491958873144\n",
       "\\item[`15`] 103.126884840928\n",
       "\\item[`23`] 90.1808026195376\n",
       "\\item[`16`] 43.597895314446\n",
       "\\item[VISIBILITY] 24.3680486652167\n",
       "\\item[`0`] 12.4998037292523\n",
       "\\item[WIND\\textbackslash{}\\_SPEED] 9.31331872226891\n",
       "\\end{description*}\n",
       "\n",
       "\\end{enumerate}\n"
      ],
      "text/markdown": [
       "1. RAINFALL\n",
       ":   1982.94042307599HUMIDITY\n",
       ":   920.586909252077TEMPERATURE\n",
       ":   810.603986705408`18`\n",
       ":   782.84150725653DEW_POINT_TEMPERATURE\n",
       ":   632.384298001056`19`\n",
       ":   519.455508376907`8`\n",
       ":   502.353807713109`21`\n",
       ":   430.185214830003`20`\n",
       ":   394.634675841615`4`\n",
       ":   389.558392056447`5`\n",
       ":   379.055208923381AUTUMN\n",
       ":   357.978264973985`3`\n",
       ":   327.244954867547`22`\n",
       ":   322.663948586527`17`\n",
       ":   306.732435423589`2`\n",
       ":   259.946174337005SOLAR_RADIATION\n",
       ":   249.752454216444SNOWFALL\n",
       ":   232.450789844669`11`\n",
       ":   231.428410797234`10`\n",
       ":   222.233261805256`6`\n",
       ":   216.689105145966(Intercept)\n",
       ":   216.584058520425`12`\n",
       ":   194.605041418871SPRING\n",
       ":   194.421437093438`13`\n",
       ":   189.528425634735`14`\n",
       ":   183.060291143358SUMMER\n",
       ":   172.901302381773HOLIDAY\n",
       ":   129.167077549417`1`\n",
       ":   125.701499472983`7`\n",
       ":   110.491958873144`15`\n",
       ":   103.126884840928`23`\n",
       ":   90.1808026195376`16`\n",
       ":   43.597895314446VISIBILITY\n",
       ":   24.3680486652167`0`\n",
       ":   12.4998037292523WIND_SPEED\n",
       ":   9.31331872226891\n",
       "\n",
       "\n",
       "\n",
       "\n"
      ],
      "text/plain": [
       "[[1]]\n",
       "             RAINFALL              HUMIDITY           TEMPERATURE \n",
       "          1982.940423            920.586909            810.603987 \n",
       "                 `18` DEW_POINT_TEMPERATURE                  `19` \n",
       "           782.841507            632.384298            519.455508 \n",
       "                  `8`                  `21`                  `20` \n",
       "           502.353808            430.185215            394.634676 \n",
       "                  `4`                   `5`                AUTUMN \n",
       "           389.558392            379.055209            357.978265 \n",
       "                  `3`                  `22`                  `17` \n",
       "           327.244955            322.663949            306.732435 \n",
       "                  `2`       SOLAR_RADIATION              SNOWFALL \n",
       "           259.946174            249.752454            232.450790 \n",
       "                 `11`                  `10`                   `6` \n",
       "           231.428411            222.233262            216.689105 \n",
       "          (Intercept)                  `12`                SPRING \n",
       "           216.584059            194.605041            194.421437 \n",
       "                 `13`                  `14`                SUMMER \n",
       "           189.528426            183.060291            172.901302 \n",
       "              HOLIDAY                   `1`                   `7` \n",
       "           129.167078            125.701499            110.491959 \n",
       "                 `15`                  `23`                  `16` \n",
       "           103.126885             90.180803             43.597895 \n",
       "           VISIBILITY                   `0`            WIND_SPEED \n",
       "            24.368049             12.499804              9.313319 \n"
      ]
     },
     "metadata": {},
     "output_type": "display_data"
    }
   ],
   "source": [
    "# Sort coefficient list\n",
    "sorted_li <- lapply(A,sort,decreasing=TRUE)\n",
    "sorted_li"
   ]
  },
  {
   "cell_type": "code",
   "execution_count": 143,
   "metadata": {},
   "outputs": [
    {
     "data": {
      "text/html": [
       "<table>\n",
       "<caption>A data.frame: 36 × 2</caption>\n",
       "<thead>\n",
       "\t<tr><th></th><th scope=col>Coef</th><th scope=col>Sorted_list</th></tr>\n",
       "\t<tr><th></th><th scope=col>&lt;dbl&gt;</th><th scope=col>&lt;chr&gt;</th></tr>\n",
       "</thead>\n",
       "<tbody>\n",
       "\t<tr><th scope=row>RAINFALL</th><td>1982.940423</td><td>RAINFALL             </td></tr>\n",
       "\t<tr><th scope=row>HUMIDITY</th><td> 920.586909</td><td>HUMIDITY             </td></tr>\n",
       "\t<tr><th scope=row>TEMPERATURE</th><td> 810.603987</td><td>TEMPERATURE          </td></tr>\n",
       "\t<tr><th scope=row>`18`</th><td> 782.841507</td><td>`18`                 </td></tr>\n",
       "\t<tr><th scope=row>DEW_POINT_TEMPERATURE</th><td> 632.384298</td><td>DEW_POINT_TEMPERATURE</td></tr>\n",
       "\t<tr><th scope=row>`19`</th><td> 519.455508</td><td>`19`                 </td></tr>\n",
       "\t<tr><th scope=row>`8`</th><td> 502.353808</td><td>`8`                  </td></tr>\n",
       "\t<tr><th scope=row>`21`</th><td> 430.185215</td><td>`21`                 </td></tr>\n",
       "\t<tr><th scope=row>`20`</th><td> 394.634676</td><td>`20`                 </td></tr>\n",
       "\t<tr><th scope=row>`4`</th><td> 389.558392</td><td>`4`                  </td></tr>\n",
       "\t<tr><th scope=row>`5`</th><td> 379.055209</td><td>`5`                  </td></tr>\n",
       "\t<tr><th scope=row>AUTUMN</th><td> 357.978265</td><td>AUTUMN               </td></tr>\n",
       "\t<tr><th scope=row>`3`</th><td> 327.244955</td><td>`3`                  </td></tr>\n",
       "\t<tr><th scope=row>`22`</th><td> 322.663949</td><td>`22`                 </td></tr>\n",
       "\t<tr><th scope=row>`17`</th><td> 306.732435</td><td>`17`                 </td></tr>\n",
       "\t<tr><th scope=row>`2`</th><td> 259.946174</td><td>`2`                  </td></tr>\n",
       "\t<tr><th scope=row>SOLAR_RADIATION</th><td> 249.752454</td><td>SOLAR_RADIATION      </td></tr>\n",
       "\t<tr><th scope=row>SNOWFALL</th><td> 232.450790</td><td>SNOWFALL             </td></tr>\n",
       "\t<tr><th scope=row>`11`</th><td> 231.428411</td><td>`11`                 </td></tr>\n",
       "\t<tr><th scope=row>`10`</th><td> 222.233262</td><td>`10`                 </td></tr>\n",
       "\t<tr><th scope=row>`6`</th><td> 216.689105</td><td>`6`                  </td></tr>\n",
       "\t<tr><th scope=row>(Intercept)</th><td> 216.584059</td><td>(Intercept)          </td></tr>\n",
       "\t<tr><th scope=row>`12`</th><td> 194.605041</td><td>`12`                 </td></tr>\n",
       "\t<tr><th scope=row>SPRING</th><td> 194.421437</td><td>SPRING               </td></tr>\n",
       "\t<tr><th scope=row>`13`</th><td> 189.528426</td><td>`13`                 </td></tr>\n",
       "\t<tr><th scope=row>`14`</th><td> 183.060291</td><td>`14`                 </td></tr>\n",
       "\t<tr><th scope=row>SUMMER</th><td> 172.901302</td><td>SUMMER               </td></tr>\n",
       "\t<tr><th scope=row>HOLIDAY</th><td> 129.167078</td><td>HOLIDAY              </td></tr>\n",
       "\t<tr><th scope=row>`1`</th><td> 125.701499</td><td>`1`                  </td></tr>\n",
       "\t<tr><th scope=row>`7`</th><td> 110.491959</td><td>`7`                  </td></tr>\n",
       "\t<tr><th scope=row>`15`</th><td> 103.126885</td><td>`15`                 </td></tr>\n",
       "\t<tr><th scope=row>`23`</th><td>  90.180803</td><td>`23`                 </td></tr>\n",
       "\t<tr><th scope=row>`16`</th><td>  43.597895</td><td>`16`                 </td></tr>\n",
       "\t<tr><th scope=row>VISIBILITY</th><td>  24.368049</td><td>VISIBILITY           </td></tr>\n",
       "\t<tr><th scope=row>`0`</th><td>  12.499804</td><td>`0`                  </td></tr>\n",
       "\t<tr><th scope=row>WIND_SPEED</th><td>   9.313319</td><td>WIND_SPEED           </td></tr>\n",
       "</tbody>\n",
       "</table>\n"
      ],
      "text/latex": [
       "A data.frame: 36 × 2\n",
       "\\begin{tabular}{r|ll}\n",
       "  & Coef & Sorted\\_list\\\\\n",
       "  & <dbl> & <chr>\\\\\n",
       "\\hline\n",
       "\tRAINFALL & 1982.940423 & RAINFALL             \\\\\n",
       "\tHUMIDITY &  920.586909 & HUMIDITY             \\\\\n",
       "\tTEMPERATURE &  810.603987 & TEMPERATURE          \\\\\n",
       "\t`18` &  782.841507 & `18`                 \\\\\n",
       "\tDEW\\_POINT\\_TEMPERATURE &  632.384298 & DEW\\_POINT\\_TEMPERATURE\\\\\n",
       "\t`19` &  519.455508 & `19`                 \\\\\n",
       "\t`8` &  502.353808 & `8`                  \\\\\n",
       "\t`21` &  430.185215 & `21`                 \\\\\n",
       "\t`20` &  394.634676 & `20`                 \\\\\n",
       "\t`4` &  389.558392 & `4`                  \\\\\n",
       "\t`5` &  379.055209 & `5`                  \\\\\n",
       "\tAUTUMN &  357.978265 & AUTUMN               \\\\\n",
       "\t`3` &  327.244955 & `3`                  \\\\\n",
       "\t`22` &  322.663949 & `22`                 \\\\\n",
       "\t`17` &  306.732435 & `17`                 \\\\\n",
       "\t`2` &  259.946174 & `2`                  \\\\\n",
       "\tSOLAR\\_RADIATION &  249.752454 & SOLAR\\_RADIATION      \\\\\n",
       "\tSNOWFALL &  232.450790 & SNOWFALL             \\\\\n",
       "\t`11` &  231.428411 & `11`                 \\\\\n",
       "\t`10` &  222.233262 & `10`                 \\\\\n",
       "\t`6` &  216.689105 & `6`                  \\\\\n",
       "\t(Intercept) &  216.584059 & (Intercept)          \\\\\n",
       "\t`12` &  194.605041 & `12`                 \\\\\n",
       "\tSPRING &  194.421437 & SPRING               \\\\\n",
       "\t`13` &  189.528426 & `13`                 \\\\\n",
       "\t`14` &  183.060291 & `14`                 \\\\\n",
       "\tSUMMER &  172.901302 & SUMMER               \\\\\n",
       "\tHOLIDAY &  129.167078 & HOLIDAY              \\\\\n",
       "\t`1` &  125.701499 & `1`                  \\\\\n",
       "\t`7` &  110.491959 & `7`                  \\\\\n",
       "\t`15` &  103.126885 & `15`                 \\\\\n",
       "\t`23` &   90.180803 & `23`                 \\\\\n",
       "\t`16` &   43.597895 & `16`                 \\\\\n",
       "\tVISIBILITY &   24.368049 & VISIBILITY           \\\\\n",
       "\t`0` &   12.499804 & `0`                  \\\\\n",
       "\tWIND\\_SPEED &    9.313319 & WIND\\_SPEED           \\\\\n",
       "\\end{tabular}\n"
      ],
      "text/markdown": [
       "\n",
       "A data.frame: 36 × 2\n",
       "\n",
       "| <!--/--> | Coef &lt;dbl&gt; | Sorted_list &lt;chr&gt; |\n",
       "|---|---|---|\n",
       "| RAINFALL | 1982.940423 | RAINFALL              |\n",
       "| HUMIDITY |  920.586909 | HUMIDITY              |\n",
       "| TEMPERATURE |  810.603987 | TEMPERATURE           |\n",
       "| `18` |  782.841507 | `18`                  |\n",
       "| DEW_POINT_TEMPERATURE |  632.384298 | DEW_POINT_TEMPERATURE |\n",
       "| `19` |  519.455508 | `19`                  |\n",
       "| `8` |  502.353808 | `8`                   |\n",
       "| `21` |  430.185215 | `21`                  |\n",
       "| `20` |  394.634676 | `20`                  |\n",
       "| `4` |  389.558392 | `4`                   |\n",
       "| `5` |  379.055209 | `5`                   |\n",
       "| AUTUMN |  357.978265 | AUTUMN                |\n",
       "| `3` |  327.244955 | `3`                   |\n",
       "| `22` |  322.663949 | `22`                  |\n",
       "| `17` |  306.732435 | `17`                  |\n",
       "| `2` |  259.946174 | `2`                   |\n",
       "| SOLAR_RADIATION |  249.752454 | SOLAR_RADIATION       |\n",
       "| SNOWFALL |  232.450790 | SNOWFALL              |\n",
       "| `11` |  231.428411 | `11`                  |\n",
       "| `10` |  222.233262 | `10`                  |\n",
       "| `6` |  216.689105 | `6`                   |\n",
       "| (Intercept) |  216.584059 | (Intercept)           |\n",
       "| `12` |  194.605041 | `12`                  |\n",
       "| SPRING |  194.421437 | SPRING                |\n",
       "| `13` |  189.528426 | `13`                  |\n",
       "| `14` |  183.060291 | `14`                  |\n",
       "| SUMMER |  172.901302 | SUMMER                |\n",
       "| HOLIDAY |  129.167078 | HOLIDAY               |\n",
       "| `1` |  125.701499 | `1`                   |\n",
       "| `7` |  110.491959 | `7`                   |\n",
       "| `15` |  103.126885 | `15`                  |\n",
       "| `23` |   90.180803 | `23`                  |\n",
       "| `16` |   43.597895 | `16`                  |\n",
       "| VISIBILITY |   24.368049 | VISIBILITY            |\n",
       "| `0` |   12.499804 | `0`                   |\n",
       "| WIND_SPEED |    9.313319 | WIND_SPEED            |\n",
       "\n"
      ],
      "text/plain": [
       "                      Coef        Sorted_list          \n",
       "RAINFALL              1982.940423 RAINFALL             \n",
       "HUMIDITY               920.586909 HUMIDITY             \n",
       "TEMPERATURE            810.603987 TEMPERATURE          \n",
       "`18`                   782.841507 `18`                 \n",
       "DEW_POINT_TEMPERATURE  632.384298 DEW_POINT_TEMPERATURE\n",
       "`19`                   519.455508 `19`                 \n",
       "`8`                    502.353808 `8`                  \n",
       "`21`                   430.185215 `21`                 \n",
       "`20`                   394.634676 `20`                 \n",
       "`4`                    389.558392 `4`                  \n",
       "`5`                    379.055209 `5`                  \n",
       "AUTUMN                 357.978265 AUTUMN               \n",
       "`3`                    327.244955 `3`                  \n",
       "`22`                   322.663949 `22`                 \n",
       "`17`                   306.732435 `17`                 \n",
       "`2`                    259.946174 `2`                  \n",
       "SOLAR_RADIATION        249.752454 SOLAR_RADIATION      \n",
       "SNOWFALL               232.450790 SNOWFALL             \n",
       "`11`                   231.428411 `11`                 \n",
       "`10`                   222.233262 `10`                 \n",
       "`6`                    216.689105 `6`                  \n",
       "(Intercept)            216.584059 (Intercept)          \n",
       "`12`                   194.605041 `12`                 \n",
       "SPRING                 194.421437 SPRING               \n",
       "`13`                   189.528426 `13`                 \n",
       "`14`                   183.060291 `14`                 \n",
       "SUMMER                 172.901302 SUMMER               \n",
       "HOLIDAY                129.167078 HOLIDAY              \n",
       "`1`                    125.701499 `1`                  \n",
       "`7`                    110.491959 `7`                  \n",
       "`15`                   103.126885 `15`                 \n",
       "`23`                    90.180803 `23`                 \n",
       "`16`                    43.597895 `16`                 \n",
       "VISIBILITY              24.368049 VISIBILITY           \n",
       "`0`                     12.499804 `0`                  \n",
       "WIND_SPEED               9.313319 WIND_SPEED           "
      ]
     },
     "metadata": {},
     "output_type": "display_data"
    }
   ],
   "source": [
    "# Visualize the list using ggplot and geom_bar\n",
    "df <- as.data.frame(sorted_li)\n",
    "names(df) <- c(\"Coef\")\n",
    "df$Sorted_list <- rownames(df)\n",
    "df3 <- df\n",
    "df3"
   ]
  },
  {
   "cell_type": "code",
   "execution_count": 144,
   "metadata": {},
   "outputs": [],
   "source": [
    "df3$Sorted_list <- factor(df3$Sorted_list,                              \n",
    "                  levels = df3$Sorted_list[order(df3$Coef, decreasing = FALSE)])"
   ]
  },
  {
   "cell_type": "code",
   "execution_count": 145,
   "metadata": {},
   "outputs": [
    {
     "data": {},
     "metadata": {},
     "output_type": "display_data"
    },
    {
     "data": {
      "image/png": "[encoded data removed]",
      "text/plain": [
       "plot without title"
      ]
     },
     "metadata": {},
     "output_type": "display_data",
     "source": "R display func"
    }
   ],
   "source": [
    "ggplot(df3, aes(x=Coef,y=Sorted_list)) + \n",
    "  geom_bar(stat = \"identity\")"
   ]
  },
  {
   "cell_type": "markdown",
   "metadata": {},
   "source": [
    "You should see a sorted coefficient bar chart like the following example: \n"
   ]
  },
  {
   "cell_type": "markdown",
   "metadata": {},
   "source": [
    "<a href=\"https://cognitiveclass.ai/?utm_medium=Exinfluencer&utm_source=Exinfluencer&utm_content=000026UJ&utm_term=10006555&utm_id=NA-SkillsNetwork-Channel-SkillsNetworkCoursesIBMDeveloperSkillsNetworkRP0321ENSkillsNetwork878-2022-01-01\">\n",
    "    <img src=\"https://cf-courses-data.s3.us.cloud-object-storage.appdomain.cloud/IBMDeveloperSkillsNetwork-RP0321EN-SkillsNetwork/labs/module_4/images/coefficient_chart.png\" width=\"600\" align=\"center\">\n",
    "</a>\n"
   ]
  },
  {
   "cell_type": "markdown",
   "metadata": {},
   "source": [
    "Mark down these 'top-ranked variables by coefficient', which will be used for model refinments in the next labs.\n"
   ]
  },
  {
   "cell_type": "markdown",
   "metadata": {},
   "source": [
    "Note that here the main reason we use absolute value is to easily identify important variables, i.e. variables with large magnitudes, no matter it's negative or positive. If we want to interprete the model then it's better to seperate the positive and negative coefficients.\n"
   ]
  },
  {
   "cell_type": "markdown",
   "metadata": {},
   "source": [
    "# Next Steps\n"
   ]
  },
  {
   "cell_type": "markdown",
   "metadata": {},
   "source": [
    "Great! Now you have built a baseline linear regression model to predict hourly bike rent count, with reasonably good performance. In the next lab, you will be refining the baseline model to improve its performance.\n"
   ]
  },
  {
   "cell_type": "markdown",
   "metadata": {},
   "source": [
    "## Authors\n",
    "\n",
    "<a href=\"https://www.linkedin.com/in/yan-luo-96288783/?utm_medium=Exinfluencer&utm_source=Exinfluencer&utm_content=000026UJ&utm_term=10006555&utm_id=NA-SkillsNetwork-Channel-SkillsNetworkCoursesIBMDeveloperSkillsNetworkRP0321ENSkillsNetwork878-2022-01-01\" target=\"_blank\">Yan Luo</a>\n"
   ]
  },
  {
   "cell_type": "markdown",
   "metadata": {},
   "source": [
    "### Other Contributors\n",
    "\n",
    "Jeff Grossman\n"
   ]
  },
  {
   "cell_type": "markdown",
   "metadata": {},
   "source": [
    "## Change Log\n",
    "\n",
    "| Date (YYYY-MM-DD) | Version | Changed By | Change Description           |\n",
    "| ----------------- | ------- | ---------- | ---------------------------- |\n",
    "| 2021-04-08        | 1.0     | Yan        | Initial version created      |\n",
    "|                   |         |            |                              |\n",
    "|                   |         |            |                              |\n",
    "\n",
    "## <h3 align=\"center\"> © IBM Corporation 2021. All rights reserved. <h3/>\n"
   ]
  }
 ],
 "metadata": {
  "kernelspec": {
   "display_name": "R",
   "language": "R",
   "name": "conda-env-r-r"
  },
  "language_info": {
   "codemirror_mode": "r",
   "file_extension": ".r",
   "mimetype": "text/x-r-source",
   "name": "R",
   "pygments_lexer": "r",
   "version": "3.5.1"
  }
 },
 "nbformat": 4,
 "nbformat_minor": 4
}
